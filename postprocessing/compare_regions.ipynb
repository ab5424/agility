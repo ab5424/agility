{
 "cells": [
  {
   "cell_type": "markdown",
   "metadata": {
    "collapsed": true,
    "pycharm": {
     "name": "#%% md\n"
    }
   },
   "source": [
    "Import stuff."
   ]
  },
  {
   "cell_type": "code",
   "execution_count": 2,
   "outputs": [
    {
     "name": "stderr",
     "output_type": "stream",
     "text": [
      "C:\\Users\\alebon\\AppData\\Local\\Temp/ipykernel_23984/612716077.py:8: UserWarning: Did you accidentally install the OVITO package from the PyPI repository in an Anaconda/Miniconda Python interpreter using the 'pip' command? Note that this will likely lead to conflicts with existing libraries in the Anaconda environment and loading of the OVITO module may subsequently fail with an error related to the Qt framework. In such a case, please uninstall the OVITO pip package first by running 'pip uninstall -y ovito PySide2' and then install the OVITO for Anaconda package using the correct command: \n",
      "\n",
      "    conda install --strict-channel-priority -c https://conda.ovito.org -c conda-forge ovito\n",
      "\n",
      "Visit https://www.ovito.org/python-downloads/ for further installation instructions.\n",
      "  from ovito.io import *\n"
     ]
    }
   ],
   "source": [
    "import math\n",
    "import numpy as np\n",
    "import pandas as pd\n",
    "import seaborn as sns\n",
    "\n",
    "from IPython.display import Image\n",
    "\n",
    "from ovito.io import *\n",
    "from ovito.plugins.ParticlesPython import VoronoiAnalysisModifier, ExpandSelectionModifier\n",
    "from ovito.plugins.PyScript import Viewport\n",
    "from ovito.plugins.TachyonPython import TachyonRenderer\n",
    "from ovito.plugins.StdModPython import SelectTypeModifier, DeleteSelectedModifier, InvertSelectionModifier"
   ],
   "metadata": {
    "collapsed": false,
    "pycharm": {
     "name": "#%%\n"
    }
   }
  },
  {
   "cell_type": "markdown",
   "source": [
    "Load structure."
   ],
   "metadata": {
    "collapsed": false,
    "pycharm": {
     "name": "#%% md\n"
    }
   }
  },
  {
   "cell_type": "code",
   "execution_count": 3,
   "outputs": [],
   "source": [
    "pipeline = import_file(\"LSF_supercell_md3.lmp\")\n",
    "def assign_particle_types(frame, data):\n",
    "    atom_types = data.particles_.particle_types_\n",
    "    # atom_types.type_by_id_(1).radius = 1.35   # Assing r to atom 1. Needed for polydisperse Voronio tess.\n",
    "\n",
    "\n",
    "pipeline.modifiers.append(assign_particle_types)"
   ],
   "metadata": {
    "collapsed": false,
    "pycharm": {
     "name": "#%%\n"
    }
   }
  },
  {
   "cell_type": "markdown",
   "source": [
    "Load both lists."
   ],
   "metadata": {
    "collapsed": false
   }
  },
  {
   "cell_type": "code",
   "execution_count": 4,
   "outputs": [],
   "source": [
    "df_gb = pd.read_csv('IDs_gb.csv')\n",
    "list_gb = df_gb['Particle Identifier'].values\n",
    "\n",
    "df_bulk = pd.read_csv('IDs_bulk.csv')\n",
    "list_bulk = df_bulk['Particle Identifier'].values"
   ],
   "metadata": {
    "collapsed": false,
    "pycharm": {
     "name": "#%%\n"
    }
   }
  },
  {
   "cell_type": "markdown",
   "source": [
    "Select cations by ID."
   ],
   "metadata": {
    "collapsed": false,
    "pycharm": {
     "name": "#%% md\n"
    }
   }
  },
  {
   "cell_type": "code",
   "execution_count": 5,
   "outputs": [
    {
     "name": "stderr",
     "output_type": "stream",
     "text": [
      "[NbConvertApp] Converting notebook compare_regions.ipynb to script\n",
      "[NbConvertApp] Writing 2290 bytes to compare_regions.py\n"
     ]
    }
   ],
   "source": [
    "def modify(frame, data):\n",
    "    #Specify the IDs of all atoms that are to remain here\n",
    "    target_ids = list_gb #  list_bulk for bulk ions\n",
    "    ids = data.particles[\"Particle Identifier\"]\n",
    "    list_ids = np.in1d(ids, target_ids, assume_unique = True, invert = False)\n",
    "    selection = data.particles_.create_property(\"Selection\", data = list_ids)\n",
    "\n",
    "\n",
    "pipeline.modifiers.append(modify)\n",
    "pipeline.modifiers.append(ExpandSelectionModifier(cutoff=3.2,\n",
    "                                                  mode=ExpandSelectionModifier.ExpansionMode.Cutoff,\n",
    "                                                  iterations=1,\n",
    "                                                  #mode=ExpandSelectionModifier.ExpansionMode.Nearest,\n",
    "                                                  #num_neighbors=2\n",
    "                                                  ))\n",
    "pipeline.modifiers.append(InvertSelectionModifier()) #  for bulk ions\n",
    "pipeline.modifiers.append(DeleteSelectedModifier())\n",
    "data = pipeline.compute()\n",
    "\n",
    "export_file(pipeline, \"gb.lmp\", \"lammps/data\", atom_style=\"charge\")\n",
    "           # columns=[\"Particle Identifier\", \"Position.X\", \"Position.Y\", \"Position.Z\", \"Particle Type\"])\n",
    "\n",
    "!jupyter nbconvert --to script compare_regions.ipynb"
   ],
   "metadata": {
    "collapsed": false,
    "pycharm": {
     "name": "#%%\n"
    }
   }
  }
 ],
 "metadata": {
  "kernelspec": {
   "display_name": "Python 3",
   "language": "python",
   "name": "python3"
  },
  "language_info": {
   "codemirror_mode": {
    "name": "ipython",
    "version": 2
   },
   "file_extension": ".py",
   "mimetype": "text/x-python",
   "name": "python",
   "nbconvert_exporter": "python",
   "pygments_lexer": "ipython2",
   "version": "2.7.6"
  }
 },
 "nbformat": 4,
 "nbformat_minor": 0
}