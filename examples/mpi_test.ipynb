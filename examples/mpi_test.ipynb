{
 "cells": [
  {
   "cell_type": "code",
   "execution_count": 1,
   "id": "1f70b392",
   "metadata": {},
   "outputs": [
    {
     "name": "stdout",
     "output_type": "stream",
     "text": [
      "Starting 48 engines with <class 'ipyparallel.cluster.launcher.LocalEngineSetLauncher'>\n"
     ]
    },
    {
     "data": {
      "application/vnd.jupyter.widget-view+json": {
       "model_id": "955808c2b5b94e86ba18e650e9dae082",
       "version_major": 2,
       "version_minor": 0
      },
      "text/plain": [
       "sleep:   0%|          | 0/25 [00:00<?, ?tasks/s]"
      ]
     },
     "metadata": {},
     "output_type": "display_data"
    },
    {
     "name": "stdout",
     "output_type": "stream",
     "text": [
      "Stopping engine(s): 1637935075\n",
      "engine set stopped 1637935075: {'engines': {'0': {'exit_code': 0, 'pid': 23507, 'identifier': '0'}, '1': {'exit_code': 0, 'pid': 23509, 'identifier': '1'}, '2': {'exit_code': 0, 'pid': 23511, 'identifier': '2'}, '3': {'exit_code': 0, 'pid': 23513, 'identifier': '3'}, '4': {'exit_code': 0, 'pid': 23515, 'identifier': '4'}, '5': {'exit_code': 0, 'pid': 23517, 'identifier': '5'}, '6': {'exit_code': 0, 'pid': 23519, 'identifier': '6'}, '7': {'exit_code': 0, 'pid': 23521, 'identifier': '7'}, '8': {'exit_code': 0, 'pid': 23523, 'identifier': '8'}, '9': {'exit_code': 0, 'pid': 23526, 'identifier': '9'}, '10': {'exit_code': 0, 'pid': 23528, 'identifier': '10'}, '11': {'exit_code': 0, 'pid': 23530, 'identifier': '11'}, '12': {'exit_code': 0, 'pid': 23532, 'identifier': '12'}, '13': {'exit_code': 0, 'pid': 23534, 'identifier': '13'}, '14': {'exit_code': 0, 'pid': 23537, 'identifier': '14'}, '15': {'exit_code': 0, 'pid': 23569, 'identifier': '15'}, '16': {'exit_code': 0, 'pid': 23577, 'identifier': '16'}, '17': {'exit_code': 0, 'pid': 23583, 'identifier': '17'}, '18': {'exit_code': 0, 'pid': 23585, 'identifier': '18'}, '19': {'exit_code': 0, 'pid': 23587, 'identifier': '19'}, '20': {'exit_code': 0, 'pid': 23590, 'identifier': '20'}, '21': {'exit_code': 0, 'pid': 23595, 'identifier': '21'}, '22': {'exit_code': 0, 'pid': 23597, 'identifier': '22'}, '23': {'exit_code': 0, 'pid': 23599, 'identifier': '23'}, '24': {'exit_code': 0, 'pid': 23642, 'identifier': '24'}, '25': {'exit_code': 0, 'pid': 23668, 'identifier': '25'}, '26': {'exit_code': 0, 'pid': 23673, 'identifier': '26'}, '27': {'exit_code': 0, 'pid': 23675, 'identifier': '27'}, '28': {'exit_code': 0, 'pid': 23677, 'identifier': '28'}, '29': {'exit_code': 0, 'pid': 23679, 'identifier': '29'}, '30': {'exit_code': 0, 'pid': 23681, 'identifier': '30'}, '31': {'exit_code': 0, 'pid': 23683, 'identifier': '31'}, '32': {'exit_code': 0, 'pid': 23686, 'identifier': '32'}, '33': {'exit_code': 0, 'pid': 23691, 'identifier': '33'}, '34': {'exit_code': 0, 'pid': 23693, 'identifier': '34'}, '35': {'exit_code': 0, 'pid': 23695, 'identifier': '35'}, '36': {'exit_code': 0, 'pid': 23697, 'identifier': '36'}, '37': {'exit_code': 0, 'pid': 23699, 'identifier': '37'}, '38': {'exit_code': 0, 'pid': 23701, 'identifier': '38'}, '39': {'exit_code': 0, 'pid': 23704, 'identifier': '39'}, '40': {'exit_code': 0, 'pid': 23709, 'identifier': '40'}, '41': {'exit_code': 0, 'pid': 23711, 'identifier': '41'}, '42': {'exit_code': 0, 'pid': 23713, 'identifier': '42'}, '43': {'exit_code': 0, 'pid': 23715, 'identifier': '43'}, '44': {'exit_code': 0, 'pid': 23717, 'identifier': '44'}, '45': {'exit_code': 0, 'pid': 23719, 'identifier': '45'}, '46': {'exit_code': 0, 'pid': 23721, 'identifier': '46'}, '47': {'exit_code': 0, 'pid': 23723, 'identifier': '47'}}, 'exit_code': 0}\n",
      "Stopping controller\n",
      "Controller stopped: {'exit_code': 0, 'pid': 23475, 'identifier': 'ipcontroller-1637935074-wzbi-23458'}\n"
     ]
    }
   ],
   "source": [
    "import time\n",
    "import ipyparallel as ipp\n",
    "\n",
    "task_durations = [1] * 25\n",
    "# request a cluster\n",
    "with ipp.Cluster() as rc:\n",
    "    # get a view on the cluster\n",
    "    view = rc.load_balanced_view()\n",
    "    # submit the tasks\n",
    "    asyncresult = view.map_async(time.sleep, task_durations)\n",
    "    # wait interactively for results\n",
    "    asyncresult.wait_interactive()\n",
    "    # retrieve actual results\n",
    "    result = asyncresult.get()\n",
    "# at this point, the cluster processes have been shutdown"
   ]
  },
  {
   "cell_type": "code",
   "execution_count": 2,
   "id": "8da6955e",
   "metadata": {},
   "outputs": [
    {
     "name": "stdout",
     "output_type": "stream",
     "text": [
      "Starting 4 engines with <class 'ipyparallel.cluster.launcher.MPIEngineSetLauncher'>\n"
     ]
    },
    {
     "data": {
      "application/vnd.jupyter.widget-view+json": {
       "model_id": "32ff2d3a4321404cbea1155e3efa12c8",
       "version_major": 2,
       "version_minor": 0
      },
      "text/plain": [
       "  0%|          | 0/4 [00:00<?, ?engine/s]"
      ]
     },
     "metadata": {},
     "output_type": "display_data"
    },
    {
     "name": "stdout",
     "output_type": "stream",
     "text": [
      "Hello World from rank 0. total ranks=4\n",
      "Hello World from rank 1. total ranks=4\n",
      "Hello World from rank 2. total ranks=4\n",
      "Hello World from rank 3. total ranks=4\n",
      "Stopping engine(s): 1637935111\n",
      "engine set stopped 1637935111: {'exit_code': 0, 'pid': 24424, 'identifier': 'ipengine-1637935109-8rzo-1637935111-23458'}\n",
      "Stopping controller\n",
      "Controller stopped: {'exit_code': 0, 'pid': 24395, 'identifier': 'ipcontroller-1637935109-8rzo-23458'}\n"
     ]
    }
   ],
   "source": [
    "import ipyparallel as ipp\n",
    "\n",
    "def mpi_example():\n",
    "    from mpi4py import MPI\n",
    "    comm = MPI.COMM_WORLD\n",
    "    return f\"Hello World from rank {comm.Get_rank()}. total ranks={comm.Get_size()}\"\n",
    "\n",
    "# request an MPI cluster with 4 engines\n",
    "with ipp.Cluster(engines='mpi', n=4) as rc:\n",
    "    # get a broadcast_view on the cluster which is best\n",
    "    # suited for MPI style computation\n",
    "    view = rc.broadcast_view()\n",
    "    # run the mpi_example function on all engines in parallel\n",
    "    r = view.apply_sync(mpi_example)\n",
    "    # Retrieve and print the result from the engines\n",
    "    print(\"\\n\".join(r))\n",
    "# at this point, the cluster processes have been shutdown"
   ]
  }
 ],
 "metadata": {
  "kernelspec": {
   "display_name": "Python 3 (ipykernel)",
   "language": "python",
   "name": "python3"
  },
  "language_info": {
   "codemirror_mode": {
    "name": "ipython",
    "version": 3
   },
   "file_extension": ".py",
   "mimetype": "text/x-python",
   "name": "python",
   "nbconvert_exporter": "python",
   "pygments_lexer": "ipython3",
   "version": "3.9.6"
  }
 },
 "nbformat": 4,
 "nbformat_minor": 5
}
