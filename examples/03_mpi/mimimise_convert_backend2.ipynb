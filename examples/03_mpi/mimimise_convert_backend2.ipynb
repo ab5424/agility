{
 "cells": [
  {
   "cell_type": "markdown",
   "id": "9ded445e",
   "metadata": {},
   "source": [
    "1. Start interacitve slurm session, e.g.: \"srun --account rwth0773 --job-name \"InteractiveJob\" --cpus-per-task 4 --mem-per-cpu 1500 --time 12:00:00 --pty zsh\"\n",
    "2. Start jupyter notebook in this session.\n",
    "3. Start new ssh session with douple forwarding, e.g.: \"ssh -t -t login18-2 -L 8891:localhost:8891 ssh ncm0130 -L 8891:localhost:8891\"\n",
    "4. Have fun."
   ]
  },
  {
   "cell_type": "code",
   "execution_count": 1,
   "id": "7cde15cb",
   "metadata": {},
   "outputs": [
    {
     "data": {
      "text/plain": [
       "0"
      ]
     },
     "execution_count": 1,
     "metadata": {},
     "output_type": "execute_result"
    }
   ],
   "source": [
    "import os\n",
    "\n",
    "os.system(\"ipcluster start --engines=mpi --profile=mpi -n 4 &\")"
   ]
  },
  {
   "cell_type": "code",
   "execution_count": 3,
   "id": "211502d7",
   "metadata": {},
   "outputs": [
    {
     "name": "stdout",
     "output_type": "stream",
     "text": [
      "profile: mpi\n",
      "IDs: [0, 1, 2, 3]\n"
     ]
    }
   ],
   "source": [
    "import ipyparallel\n",
    "\n",
    "cluster = ipyparallel.Client(engines=\"mpi\", profile=\"mpi\")\n",
    "cluster.block = True\n",
    "print('profile:', cluster.profile)\n",
    "print(\"IDs:\", cluster.ids)"
   ]
  },
  {
   "cell_type": "code",
   "execution_count": 4,
   "id": "eb485bbb",
   "metadata": {},
   "outputs": [
    {
     "data": {
      "text/plain": [
       "[stdout:0] Proc 0 out of 4 procs has\n"
      ]
     },
     "metadata": {},
     "output_type": "display_data"
    },
    {
     "data": {
      "text/plain": [
       "[stdout:1] Proc 1 out of 4 procs has\n"
      ]
     },
     "metadata": {},
     "output_type": "display_data"
    },
    {
     "data": {
      "text/plain": [
       "[stdout:2] Proc 2 out of 4 procs has\n"
      ]
     },
     "metadata": {},
     "output_type": "display_data"
    },
    {
     "data": {
      "text/plain": [
       "[stdout:3] Proc 3 out of 4 procs has\n"
      ]
     },
     "metadata": {},
     "output_type": "display_data"
    }
   ],
   "source": [
    "%%px\n",
    "from mpi4py import MPI\n",
    "me = MPI.COMM_WORLD.Get_rank()\n",
    "nprocs = MPI.COMM_WORLD.Get_size()\n",
    "print(\"Proc %d out of %d procs has\" % (me,nprocs))"
   ]
  },
  {
   "cell_type": "code",
   "execution_count": 5,
   "id": "53f0f842",
   "metadata": {},
   "outputs": [
    {
     "data": {
      "application/vnd.jupyter.widget-view+json": {
       "model_id": "e689ebacda0a45e4a55ef2db04e8811b",
       "version_major": 2,
       "version_minor": 0
      },
      "text/plain": [
       "%px:   0%|          | 0/4 [00:00<?, ?tasks/s]"
      ]
     },
     "metadata": {},
     "output_type": "display_data"
    }
   ],
   "source": [
    "%%px\n",
    "import numpy as np\n",
    "from autogabi.analysis import GBStructure"
   ]
  },
  {
   "cell_type": "code",
   "execution_count": 6,
   "id": "490ce9d6",
   "metadata": {},
   "outputs": [
    {
     "data": {
      "text/plain": [
       "[stdout:0] LAMMPS (29 Sep 2021 - Update 1)\n",
       "LAMMPS output is captured by PyLammps wrapper\n",
       "  using 1 OpenMP thread(s) per MPI task\n"
      ]
     },
     "metadata": {},
     "output_type": "display_data"
    },
    {
     "data": {
      "text/plain": [
       "[stdout:2] LAMMPS output is captured by PyLammps wrapper\n"
      ]
     },
     "metadata": {},
     "output_type": "display_data"
    },
    {
     "data": {
      "text/plain": [
       "[stdout:3] LAMMPS output is captured by PyLammps wrapper\n"
      ]
     },
     "metadata": {},
     "output_type": "display_data"
    },
    {
     "data": {
      "text/plain": [
       "[stdout:1] LAMMPS output is captured by PyLammps wrapper\n"
      ]
     },
     "metadata": {},
     "output_type": "display_data"
    },
    {
     "data": {
      "application/vnd.jupyter.widget-view+json": {
       "model_id": "9ac501141f3f4a599fa84553ab306d50",
       "version_major": 2,
       "version_minor": 0
      },
      "text/plain": [
       "%px:   0%|          | 0/4 [00:00<?, ?tasks/s]"
      ]
     },
     "metadata": {},
     "output_type": "display_data"
    },
    {
     "data": {
      "text/plain": [
       "\u001b[0;31mOut[2:3]: \u001b[0m\n",
       "['System init for write_data ...',\n",
       " 'PPPM initialization ...',\n",
       " '  using 12-bit tables for long-range coulomb (src/kspace.cpp:340)',\n",
       " '  G vector (1/distance) = 0.25538187',\n",
       " '  grid = 60 60 60',\n",
       " '  stencil order = 5',\n",
       " '  estimated absolute RMS force accuracy = 0.0015746464',\n",
       " '  estimated relative force accuracy = 0.00010935314',\n",
       " '  using double precision MKL FFT',\n",
       " '  3d grid and FFT values/proc = 91723 54000',\n",
       " \"WARNING: Not all mixed pair coeffs generated from mixing. Use write_data with 'pair ij' option to store all pair coeffs. (src/write_data.cpp:312)\"]"
      ]
     },
     "metadata": {
      "after": null,
      "completed": null,
      "data": {},
      "engine_id": 2,
      "engine_uuid": "56fa47d5-e0f5b010c8a7b417643372f7",
      "error": null,
      "execute_input": "gb = GBStructure('lammps', '../LSF_supercell_md3.lmp', pair_style='buck/coul/long 12', kspace_style='pppm 1.0e-4')\ngb.pylmp.thermo(5)\ngb.minimise()\ngb.pylmp.write_data(\"LSF_min.lmp\")\n",
      "execute_result": {
       "data": {
        "text/plain": "['System init for write_data ...',\n 'PPPM initialization ...',\n '  using 12-bit tables for long-range coulomb (src/kspace.cpp:340)',\n '  G vector (1/distance) = 0.25538187',\n '  grid = 60 60 60',\n '  stencil order = 5',\n '  estimated absolute RMS force accuracy = 0.0015746464',\n '  estimated relative force accuracy = 0.00010935314',\n '  using double precision MKL FFT',\n '  3d grid and FFT values/proc = 91723 54000',\n \"WARNING: Not all mixed pair coeffs generated from mixing. Use write_data with 'pair ij' option to store all pair coeffs. (src/write_data.cpp:312)\"]"
       },
       "execution_count": 3,
       "metadata": {}
      },
      "follow": null,
      "msg_id": null,
      "outputs": [],
      "received": null,
      "started": null,
      "status": null,
      "stderr": "",
      "stdout": "LAMMPS output is captured by PyLammps wrapper\n",
      "submitted": "2021-12-02T14:33:35.029111Z"
     },
     "output_type": "display_data"
    },
    {
     "data": {
      "text/plain": [
       "\u001b[0;31mOut[0:3]: \u001b[0m\n",
       "['System init for write_data ...',\n",
       " 'PPPM initialization ...',\n",
       " '  using 12-bit tables for long-range coulomb (src/kspace.cpp:340)',\n",
       " '  G vector (1/distance) = 0.25538187',\n",
       " '  grid = 60 60 60',\n",
       " '  stencil order = 5',\n",
       " '  estimated absolute RMS force accuracy = 0.0015746464',\n",
       " '  estimated relative force accuracy = 0.00010935314',\n",
       " '  using double precision MKL FFT',\n",
       " '  3d grid and FFT values/proc = 91723 54000',\n",
       " \"WARNING: Not all mixed pair coeffs generated from mixing. Use write_data with 'pair ij' option to store all pair coeffs. (src/write_data.cpp:312)\"]"
      ]
     },
     "metadata": {
      "after": null,
      "completed": null,
      "data": {},
      "engine_id": 0,
      "engine_uuid": "9be5161f-a7a4113bd7058f440acf3866",
      "error": null,
      "execute_input": "gb = GBStructure('lammps', '../LSF_supercell_md3.lmp', pair_style='buck/coul/long 12', kspace_style='pppm 1.0e-4')\ngb.pylmp.thermo(5)\ngb.minimise()\ngb.pylmp.write_data(\"LSF_min.lmp\")\n",
      "execute_result": {
       "data": {
        "text/plain": "['System init for write_data ...',\n 'PPPM initialization ...',\n '  using 12-bit tables for long-range coulomb (src/kspace.cpp:340)',\n '  G vector (1/distance) = 0.25538187',\n '  grid = 60 60 60',\n '  stencil order = 5',\n '  estimated absolute RMS force accuracy = 0.0015746464',\n '  estimated relative force accuracy = 0.00010935314',\n '  using double precision MKL FFT',\n '  3d grid and FFT values/proc = 91723 54000',\n \"WARNING: Not all mixed pair coeffs generated from mixing. Use write_data with 'pair ij' option to store all pair coeffs. (src/write_data.cpp:312)\"]"
       },
       "execution_count": 3,
       "metadata": {}
      },
      "follow": null,
      "msg_id": null,
      "outputs": [],
      "received": null,
      "started": null,
      "status": null,
      "stderr": "",
      "stdout": "LAMMPS (29 Sep 2021 - Update 1)\nLAMMPS output is captured by PyLammps wrapper\n  using 1 OpenMP thread(s) per MPI task\n",
      "submitted": "2021-12-02T14:33:35.028849Z"
     },
     "output_type": "display_data"
    },
    {
     "data": {
      "text/plain": [
       "\u001b[0;31mOut[3:3]: \u001b[0m\n",
       "['System init for write_data ...',\n",
       " 'PPPM initialization ...',\n",
       " '  using 12-bit tables for long-range coulomb (src/kspace.cpp:340)',\n",
       " '  G vector (1/distance) = 0.25538187',\n",
       " '  grid = 60 60 60',\n",
       " '  stencil order = 5',\n",
       " '  estimated absolute RMS force accuracy = 0.0015746464',\n",
       " '  estimated relative force accuracy = 0.00010935314',\n",
       " '  using double precision MKL FFT',\n",
       " '  3d grid and FFT values/proc = 91723 54000',\n",
       " \"WARNING: Not all mixed pair coeffs generated from mixing. Use write_data with 'pair ij' option to store all pair coeffs. (src/write_data.cpp:312)\"]"
      ]
     },
     "metadata": {
      "after": null,
      "completed": null,
      "data": {},
      "engine_id": 3,
      "engine_uuid": "4dcc2fdc-9f620e2f77fcd2e069919ae6",
      "error": null,
      "execute_input": "gb = GBStructure('lammps', '../LSF_supercell_md3.lmp', pair_style='buck/coul/long 12', kspace_style='pppm 1.0e-4')\ngb.pylmp.thermo(5)\ngb.minimise()\ngb.pylmp.write_data(\"LSF_min.lmp\")\n",
      "execute_result": {
       "data": {
        "text/plain": "['System init for write_data ...',\n 'PPPM initialization ...',\n '  using 12-bit tables for long-range coulomb (src/kspace.cpp:340)',\n '  G vector (1/distance) = 0.25538187',\n '  grid = 60 60 60',\n '  stencil order = 5',\n '  estimated absolute RMS force accuracy = 0.0015746464',\n '  estimated relative force accuracy = 0.00010935314',\n '  using double precision MKL FFT',\n '  3d grid and FFT values/proc = 91723 54000',\n \"WARNING: Not all mixed pair coeffs generated from mixing. Use write_data with 'pair ij' option to store all pair coeffs. (src/write_data.cpp:312)\"]"
       },
       "execution_count": 3,
       "metadata": {}
      },
      "follow": null,
      "msg_id": null,
      "outputs": [],
      "received": null,
      "started": null,
      "status": null,
      "stderr": "",
      "stdout": "LAMMPS output is captured by PyLammps wrapper\n",
      "submitted": "2021-12-02T14:33:35.030624Z"
     },
     "output_type": "display_data"
    },
    {
     "data": {
      "text/plain": [
       "\u001b[0;31mOut[1:3]: \u001b[0m\n",
       "['System init for write_data ...',\n",
       " 'PPPM initialization ...',\n",
       " '  using 12-bit tables for long-range coulomb (src/kspace.cpp:340)',\n",
       " '  G vector (1/distance) = 0.25538187',\n",
       " '  grid = 60 60 60',\n",
       " '  stencil order = 5',\n",
       " '  estimated absolute RMS force accuracy = 0.0015746464',\n",
       " '  estimated relative force accuracy = 0.00010935314',\n",
       " '  using double precision MKL FFT',\n",
       " '  3d grid and FFT values/proc = 91723 54000',\n",
       " \"WARNING: Not all mixed pair coeffs generated from mixing. Use write_data with 'pair ij' option to store all pair coeffs. (src/write_data.cpp:312)\"]"
      ]
     },
     "metadata": {
      "after": null,
      "completed": null,
      "data": {},
      "engine_id": 1,
      "engine_uuid": "431d4806-abd0febb90f73fb5a8e04ae5",
      "error": null,
      "execute_input": "gb = GBStructure('lammps', '../LSF_supercell_md3.lmp', pair_style='buck/coul/long 12', kspace_style='pppm 1.0e-4')\ngb.pylmp.thermo(5)\ngb.minimise()\ngb.pylmp.write_data(\"LSF_min.lmp\")\n",
      "execute_result": {
       "data": {
        "text/plain": "['System init for write_data ...',\n 'PPPM initialization ...',\n '  using 12-bit tables for long-range coulomb (src/kspace.cpp:340)',\n '  G vector (1/distance) = 0.25538187',\n '  grid = 60 60 60',\n '  stencil order = 5',\n '  estimated absolute RMS force accuracy = 0.0015746464',\n '  estimated relative force accuracy = 0.00010935314',\n '  using double precision MKL FFT',\n '  3d grid and FFT values/proc = 91723 54000',\n \"WARNING: Not all mixed pair coeffs generated from mixing. Use write_data with 'pair ij' option to store all pair coeffs. (src/write_data.cpp:312)\"]"
       },
       "execution_count": 3,
       "metadata": {}
      },
      "follow": null,
      "msg_id": null,
      "outputs": [],
      "received": null,
      "started": null,
      "status": null,
      "stderr": "",
      "stdout": "LAMMPS output is captured by PyLammps wrapper\n",
      "submitted": "2021-12-02T14:33:35.028992Z"
     },
     "output_type": "display_data"
    }
   ],
   "source": [
    "%%px\n",
    "gb = GBStructure('lammps', '../LSF_supercell_md3.lmp', pair_style='buck/coul/long 12', kspace_style='pppm 1.0e-4')\n",
    "gb.pylmp.thermo(5)\n",
    "gb.minimise()\n",
    "gb.pylmp.write_data(\"LSF_min.lmp\")"
   ]
  }
 ],
 "metadata": {
  "kernelspec": {
   "display_name": "Python 3 (ipykernel)",
   "language": "python",
   "name": "python3"
  },
  "language_info": {
   "codemirror_mode": {
    "name": "ipython",
    "version": 3
   },
   "file_extension": ".py",
   "mimetype": "text/x-python",
   "name": "python",
   "nbconvert_exporter": "python",
   "pygments_lexer": "ipython3",
   "version": "3.9.6"
  }
 },
 "nbformat": 4,
 "nbformat_minor": 5
}
