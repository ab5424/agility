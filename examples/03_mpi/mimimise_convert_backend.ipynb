{
 "cells": [
  {
   "cell_type": "markdown",
   "id": "02650c3f",
   "metadata": {},
   "source": [
    "1. Start interacitve slurm session, e.g.: \"srun --account rwth0773 --job-name \"InteractiveJob\" --cpus-per-task 4 --mem-per-cpu 1500 --time 12:00:00 --pty zsh\"\n",
    "2. Start jupyter notebook in this session.\n",
    "3. Start new ssh session with douple forwarding, e.g.: \"ssh -t -t login18-2 -L 8891:localhost:8891 ssh ncm0130 -L 8891:localhost:8891\"\n",
    "4. Have fun."
   ]
  },
  {
   "cell_type": "code",
   "execution_count": 1,
   "id": "7cde15cb",
   "metadata": {},
   "outputs": [
    {
     "data": {
      "text/plain": [
       "0"
      ]
     },
     "execution_count": 1,
     "metadata": {},
     "output_type": "execute_result"
    },
    {
     "name": "stderr",
     "output_type": "stream",
     "text": [
      "2021-12-01 10:04:31.506 [IPClusterStart] Starting ipcluster with [daemonize=False]\n",
      "2021-12-01 10:04:33.128 [IPClusterStart] Starting 4 engines with <class 'ipyparallel.cluster.launcher.MPIEngineSetLauncher'>\n",
      "2021-12-01 10:05:03.175 [IPClusterStart] Engines appear to have started successfully\n"
     ]
    }
   ],
   "source": [
    "from __future__ import annotations\n",
    "\n",
    "import os\n",
    "\n",
    "os.system(\"ipcluster start --engines=mpi --profile=mpi -n 4 &\")"
   ]
  },
  {
   "cell_type": "code",
   "execution_count": 2,
   "id": "211502d7",
   "metadata": {},
   "outputs": [
    {
     "name": "stdout",
     "output_type": "stream",
     "text": [
      "profile: mpi\n",
      "IDs: [0, 1, 2, 3]\n"
     ]
    }
   ],
   "source": [
    "import ipyparallel\n",
    "\n",
    "cluster = ipyparallel.Client(engine=\"mpi\", profile=\"mpi\")\n",
    "cluster.block = True\n",
    "print(\"profile:\", cluster.profile)\n",
    "print(\"IDs:\", cluster.ids)"
   ]
  },
  {
   "cell_type": "code",
   "execution_count": 3,
   "id": "eb485bbb",
   "metadata": {},
   "outputs": [
    {
     "data": {
      "text/plain": [
       "[stdout:1] Proc 1 out of 4 procs has\n"
      ]
     },
     "metadata": {},
     "output_type": "display_data"
    },
    {
     "data": {
      "text/plain": [
       "[stdout:2] Proc 2 out of 4 procs has\n"
      ]
     },
     "metadata": {},
     "output_type": "display_data"
    },
    {
     "data": {
      "text/plain": [
       "[stdout:0] Proc 0 out of 4 procs has\n"
      ]
     },
     "metadata": {},
     "output_type": "display_data"
    },
    {
     "data": {
      "text/plain": [
       "[stdout:3] Proc 3 out of 4 procs has\n"
      ]
     },
     "metadata": {},
     "output_type": "display_data"
    }
   ],
   "source": [
    "%%px\n",
    "from mpi4py import MPI\n",
    "me = MPI.COMM_WORLD.Get_rank()\n",
    "nprocs = MPI.COMM_WORLD.Get_size()\n",
    "print(\"Proc %d out of %d procs has\" % (me,nprocs))"
   ]
  },
  {
   "cell_type": "code",
   "execution_count": 4,
   "id": "53f0f842",
   "metadata": {},
   "outputs": [],
   "source": [
    "%%px\n",
    "import numpy as np\n",
    "from agility.analysis import GBStructure"
   ]
  },
  {
   "cell_type": "code",
   "execution_count": 9,
   "id": "490ce9d6",
   "metadata": {},
   "outputs": [
    {
     "data": {
      "text/plain": [
       "[stdout:0] LAMMPS output is captured by PyLammps wrapper\n",
       "LAMMPS (29 Sep 2021 - Update 1)\n",
       "  using 1 OpenMP thread(s) per MPI task\n"
      ]
     },
     "metadata": {},
     "output_type": "display_data"
    },
    {
     "data": {
      "text/plain": [
       "[stdout:3] LAMMPS output is captured by PyLammps wrapper\n"
      ]
     },
     "metadata": {},
     "output_type": "display_data"
    },
    {
     "data": {
      "text/plain": [
       "[stdout:2] LAMMPS output is captured by PyLammps wrapper\n"
      ]
     },
     "metadata": {},
     "output_type": "display_data"
    },
    {
     "data": {
      "text/plain": [
       "[stdout:1] LAMMPS output is captured by PyLammps wrapper\n"
      ]
     },
     "metadata": {},
     "output_type": "display_data"
    },
    {
     "data": {
      "application/vnd.jupyter.widget-view+json": {
       "model_id": "a8635c51b5244ca3bf0a153e4b640f0a",
       "version_major": 2,
       "version_minor": 0
      },
      "text/plain": [
       "%px:   0%|          | 0/4 [00:00<?, ?tasks/s]"
      ]
     },
     "metadata": {},
     "output_type": "display_data"
    }
   ],
   "source": [
    "%%px\n",
    "gb = GBStructure('lammps', 'LSF_supercell_md3.lmp', pair_style='buck/coul/long 12', kspace_style='pppm 1.0e-4')\n",
    "gb.pylmp.thermo(5)\n",
    "gb.minimise()"
   ]
  },
  {
   "cell_type": "code",
   "execution_count": null,
   "id": "233ef59b",
   "metadata": {},
   "outputs": [
    {
     "data": {
      "application/vnd.jupyter.widget-view+json": {
       "model_id": "4f751db873e64ae4aa97176679e7df40",
       "version_major": 2,
       "version_minor": 0
      },
      "text/plain": [
       "%px:   0%|          | 0/4 [00:00<?, ?tasks/s]"
      ]
     },
     "metadata": {},
     "output_type": "display_data"
    }
   ],
   "source": [
    "%%px\n",
    "gb.pylmp.write_data(\"LSF_supercell_md3_min.lmp\")"
   ]
  }
 ],
 "metadata": {
  "kernelspec": {
   "display_name": "Python 3 (ipykernel)",
   "language": "python",
   "name": "python3"
  },
  "language_info": {
   "codemirror_mode": {
    "name": "ipython",
    "version": 3
   },
   "file_extension": ".py",
   "mimetype": "text/x-python",
   "name": "python",
   "nbconvert_exporter": "python",
   "pygments_lexer": "ipython3",
   "version": "3.9.6"
  }
 },
 "nbformat": 4,
 "nbformat_minor": 5
}
