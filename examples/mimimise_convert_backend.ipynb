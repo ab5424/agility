{
 "cells": [
  {
   "cell_type": "code",
   "execution_count": 2,
   "id": "7cde15cb",
   "metadata": {},
   "outputs": [
    {
     "data": {
      "text/plain": [
       "0"
      ]
     },
     "execution_count": 2,
     "metadata": {},
     "output_type": "execute_result"
    },
    {
     "name": "stderr",
     "output_type": "stream",
     "text": [
      "2021-11-25 16:46:47.072 [IPClusterStart] WARNING | Unrecognized alias: 'engine', it will have no effect.\n",
      "2021-11-25 16:46:47.081 [IPClusterStart] WARNING | Config option `engine_launcher_class` not recognized by `IPClusterStart`.\n",
      "2021-11-25 16:46:47.081 [IPClusterStart] WARNING | IPClusterEngines.engine_launcher_class = MPIEngineSetLauncher configuration is deprecated in ipyparallel 7. Use Cluster.engine_launcher_class = MPIEngineSetLauncher\n",
      "2021-11-25 16:46:47.110 [IPClusterStart] CRITICAL | Bad config encountered during initialization: The 'engine_launcher_class' trait of <Cluster(cluster_id='', profile='mpi')> instance must be a type, but 'MPIEngineSetLauncher' could not be imported\n"
     ]
    }
   ],
   "source": [
    "import os\n",
    "\n",
    "os.system(\"ipcluster start --engine=mpi --profile=mpi &\")"
   ]
  },
  {
   "cell_type": "code",
   "execution_count": 1,
   "id": "211502d7",
   "metadata": {},
   "outputs": [
    {
     "name": "stdout",
     "output_type": "stream",
     "text": [
      "Waiting for connection file: /rwthfs/rz/cluster/home/ab542498/.ipython/profile_mpi/security/ipcontroller-client.json\n"
     ]
    },
    {
     "ename": "OSError",
     "evalue": "Connection file '/rwthfs/rz/cluster/home/ab542498/.ipython/profile_mpi/security/ipcontroller-client.json' not found.\nYou have attempted to connect to an IPython Cluster but no Controller could be found.\nPlease double-check your configuration and ensure that a cluster is running.",
     "output_type": "error",
     "traceback": [
      "\u001b[0;31m---------------------------------------------------------------------------\u001b[0m",
      "\u001b[0;31mOSError\u001b[0m                                   Traceback (most recent call last)",
      "\u001b[0;32m/tmp/ab542498/login18-2_104474/ipykernel_216282/1122244940.py\u001b[0m in \u001b[0;36m<module>\u001b[0;34m\u001b[0m\n\u001b[1;32m      1\u001b[0m \u001b[0;32mimport\u001b[0m \u001b[0mipyparallel\u001b[0m\u001b[0;34m\u001b[0m\u001b[0;34m\u001b[0m\u001b[0m\n\u001b[1;32m      2\u001b[0m \u001b[0;34m\u001b[0m\u001b[0m\n\u001b[0;32m----> 3\u001b[0;31m \u001b[0mcluster\u001b[0m \u001b[0;34m=\u001b[0m \u001b[0mipyparallel\u001b[0m\u001b[0;34m.\u001b[0m\u001b[0mClient\u001b[0m\u001b[0;34m(\u001b[0m\u001b[0mengine\u001b[0m\u001b[0;34m=\u001b[0m\u001b[0;34m\"mpi\"\u001b[0m\u001b[0;34m,\u001b[0m \u001b[0mprofile\u001b[0m\u001b[0;34m=\u001b[0m\u001b[0;34m\"mpi\"\u001b[0m\u001b[0;34m)\u001b[0m\u001b[0;34m\u001b[0m\u001b[0;34m\u001b[0m\u001b[0m\n\u001b[0m\u001b[1;32m      4\u001b[0m \u001b[0mcluster\u001b[0m\u001b[0;34m.\u001b[0m\u001b[0mblock\u001b[0m \u001b[0;34m=\u001b[0m \u001b[0;32mTrue\u001b[0m\u001b[0;34m\u001b[0m\u001b[0;34m\u001b[0m\u001b[0m\n\u001b[1;32m      5\u001b[0m \u001b[0mprint\u001b[0m\u001b[0;34m(\u001b[0m\u001b[0;34m'profile:'\u001b[0m\u001b[0;34m,\u001b[0m \u001b[0mcluster\u001b[0m\u001b[0;34m.\u001b[0m\u001b[0mprofile\u001b[0m\u001b[0;34m)\u001b[0m\u001b[0;34m\u001b[0m\u001b[0;34m\u001b[0m\u001b[0m\n",
      "\u001b[0;32m/rwthfs/rz/cluster/home/ab542498/python/base-3.9/lib/python3.9/site-packages/ipyparallel/client/client.py\u001b[0m in \u001b[0;36m__init__\u001b[0;34m(self, connection_info, url_file, profile, profile_dir, ipython_dir, context, debug, sshserver, sshkey, password, paramiko, timeout, cluster_id, cluster, **extra_args)\u001b[0m\n\u001b[1;32m    460\u001b[0m             \u001b[0;32mif\u001b[0m \u001b[0;32mnot\u001b[0m \u001b[0mos\u001b[0m\u001b[0;34m.\u001b[0m\u001b[0mpath\u001b[0m\u001b[0;34m.\u001b[0m\u001b[0mexists\u001b[0m\u001b[0;34m(\u001b[0m\u001b[0mconnection_file\u001b[0m\u001b[0;34m)\u001b[0m\u001b[0;34m:\u001b[0m\u001b[0;34m\u001b[0m\u001b[0;34m\u001b[0m\u001b[0m\n\u001b[1;32m    461\u001b[0m                 \u001b[0mmsg\u001b[0m \u001b[0;34m=\u001b[0m \u001b[0;34m'\\n'\u001b[0m\u001b[0;34m.\u001b[0m\u001b[0mjoin\u001b[0m\u001b[0;34m(\u001b[0m\u001b[0;34m[\u001b[0m\u001b[0;34mf\"Connection file {short!r} not found.\"\u001b[0m\u001b[0;34m,\u001b[0m \u001b[0mno_file_msg\u001b[0m\u001b[0;34m]\u001b[0m\u001b[0;34m)\u001b[0m\u001b[0;34m\u001b[0m\u001b[0;34m\u001b[0m\u001b[0m\n\u001b[0;32m--> 462\u001b[0;31m                 \u001b[0;32mraise\u001b[0m \u001b[0mOSError\u001b[0m\u001b[0;34m(\u001b[0m\u001b[0mmsg\u001b[0m\u001b[0;34m)\u001b[0m\u001b[0;34m\u001b[0m\u001b[0;34m\u001b[0m\u001b[0m\n\u001b[0m\u001b[1;32m    463\u001b[0m \u001b[0;34m\u001b[0m\u001b[0m\n\u001b[1;32m    464\u001b[0m             \u001b[0;32mwith\u001b[0m \u001b[0mopen\u001b[0m\u001b[0;34m(\u001b[0m\u001b[0mconnection_file\u001b[0m\u001b[0;34m)\u001b[0m \u001b[0;32mas\u001b[0m \u001b[0mf\u001b[0m\u001b[0;34m:\u001b[0m\u001b[0;34m\u001b[0m\u001b[0;34m\u001b[0m\u001b[0m\n",
      "\u001b[0;31mOSError\u001b[0m: Connection file '/rwthfs/rz/cluster/home/ab542498/.ipython/profile_mpi/security/ipcontroller-client.json' not found.\nYou have attempted to connect to an IPython Cluster but no Controller could be found.\nPlease double-check your configuration and ensure that a cluster is running."
     ]
    }
   ],
   "source": [
    "import ipyparallel\n",
    "\n",
    "cluster = ipyparallel.Client(engine=\"mpi\", profile=\"mpi\")\n",
    "cluster.block = True\n",
    "print('profile:', cluster.profile)\n",
    "print(\"IDs:\", cluster.ids) # Print process id numbers"
   ]
  },
  {
   "cell_type": "code",
   "execution_count": 6,
   "id": "55c7c4ed",
   "metadata": {},
   "outputs": [],
   "source": [
    "view = cluster[:]\n",
    "view.activate()"
   ]
  },
  {
   "cell_type": "code",
   "execution_count": 4,
   "id": "eb485bbb",
   "metadata": {},
   "outputs": [
    {
     "data": {
      "application/vnd.jupyter.widget-view+json": {
       "model_id": "6b5a7e1dfab04c5a8f19f83ec6a0ae3f",
       "version_major": 2,
       "version_minor": 0
      },
      "text/plain": [
       "%px:   0%|          | 0/48 [00:00<?, ?tasks/s]"
      ]
     },
     "metadata": {},
     "output_type": "display_data"
    },
    {
     "data": {
      "text/plain": [
       "[stdout:10] Proc 0 out of 1 procs has\n"
      ]
     },
     "metadata": {},
     "output_type": "display_data"
    },
    {
     "data": {
      "text/plain": [
       "[stdout:47] Proc 0 out of 1 procs has\n"
      ]
     },
     "metadata": {},
     "output_type": "display_data"
    },
    {
     "data": {
      "text/plain": [
       "[stdout:17] Proc 0 out of 1 procs has\n"
      ]
     },
     "metadata": {},
     "output_type": "display_data"
    },
    {
     "data": {
      "text/plain": [
       "[stdout:3] Proc 0 out of 1 procs has\n"
      ]
     },
     "metadata": {},
     "output_type": "display_data"
    },
    {
     "data": {
      "text/plain": [
       "[stdout:19] Proc 0 out of 1 procs has\n"
      ]
     },
     "metadata": {},
     "output_type": "display_data"
    },
    {
     "data": {
      "text/plain": [
       "[stdout:2] Proc 0 out of 1 procs has\n"
      ]
     },
     "metadata": {},
     "output_type": "display_data"
    },
    {
     "data": {
      "text/plain": [
       "[stdout:41] Proc 0 out of 1 procs has\n"
      ]
     },
     "metadata": {},
     "output_type": "display_data"
    },
    {
     "data": {
      "text/plain": [
       "[stdout:46] Proc 0 out of 1 procs has\n"
      ]
     },
     "metadata": {},
     "output_type": "display_data"
    },
    {
     "data": {
      "text/plain": [
       "[stdout:29] Proc 0 out of 1 procs has\n"
      ]
     },
     "metadata": {},
     "output_type": "display_data"
    },
    {
     "data": {
      "text/plain": [
       "[stdout:43] Proc 0 out of 1 procs has\n"
      ]
     },
     "metadata": {},
     "output_type": "display_data"
    },
    {
     "data": {
      "text/plain": [
       "[stdout:13] Proc 0 out of 1 procs has\n"
      ]
     },
     "metadata": {},
     "output_type": "display_data"
    },
    {
     "data": {
      "text/plain": [
       "[stdout:20] Proc 0 out of 1 procs has\n"
      ]
     },
     "metadata": {},
     "output_type": "display_data"
    },
    {
     "data": {
      "text/plain": [
       "[stdout:11] Proc 0 out of 1 procs has\n"
      ]
     },
     "metadata": {},
     "output_type": "display_data"
    },
    {
     "data": {
      "text/plain": [
       "[stdout:39] Proc 0 out of 1 procs has\n"
      ]
     },
     "metadata": {},
     "output_type": "display_data"
    },
    {
     "data": {
      "text/plain": [
       "[stdout:28] Proc 0 out of 1 procs has\n"
      ]
     },
     "metadata": {},
     "output_type": "display_data"
    },
    {
     "data": {
      "text/plain": [
       "[stdout:36] Proc 0 out of 1 procs has\n"
      ]
     },
     "metadata": {},
     "output_type": "display_data"
    },
    {
     "data": {
      "text/plain": [
       "[stdout:24] Proc 0 out of 1 procs has\n"
      ]
     },
     "metadata": {},
     "output_type": "display_data"
    },
    {
     "data": {
      "text/plain": [
       "[stdout:42] Proc 0 out of 1 procs has\n"
      ]
     },
     "metadata": {},
     "output_type": "display_data"
    },
    {
     "data": {
      "text/plain": [
       "[stdout:15] Proc 0 out of 1 procs has\n"
      ]
     },
     "metadata": {},
     "output_type": "display_data"
    },
    {
     "data": {
      "text/plain": [
       "[stdout:30] Proc 0 out of 1 procs has\n"
      ]
     },
     "metadata": {},
     "output_type": "display_data"
    },
    {
     "data": {
      "text/plain": [
       "[stdout:22] Proc 0 out of 1 procs has\n"
      ]
     },
     "metadata": {},
     "output_type": "display_data"
    },
    {
     "data": {
      "text/plain": [
       "[stdout:33] Proc 0 out of 1 procs has\n"
      ]
     },
     "metadata": {},
     "output_type": "display_data"
    },
    {
     "data": {
      "text/plain": [
       "[stdout:23] Proc 0 out of 1 procs has\n"
      ]
     },
     "metadata": {},
     "output_type": "display_data"
    },
    {
     "data": {
      "text/plain": [
       "[stdout:12] Proc 0 out of 1 procs has\n"
      ]
     },
     "metadata": {},
     "output_type": "display_data"
    },
    {
     "data": {
      "text/plain": [
       "[stdout:7] Proc 0 out of 1 procs has\n"
      ]
     },
     "metadata": {},
     "output_type": "display_data"
    },
    {
     "data": {
      "text/plain": [
       "[stdout:37] Proc 0 out of 1 procs has\n"
      ]
     },
     "metadata": {},
     "output_type": "display_data"
    },
    {
     "data": {
      "text/plain": [
       "[stdout:0] Proc 0 out of 1 procs has\n"
      ]
     },
     "metadata": {},
     "output_type": "display_data"
    },
    {
     "data": {
      "text/plain": [
       "[stdout:8] Proc 0 out of 1 procs has\n"
      ]
     },
     "metadata": {},
     "output_type": "display_data"
    },
    {
     "data": {
      "text/plain": [
       "[stdout:14] Proc 0 out of 1 procs has\n"
      ]
     },
     "metadata": {},
     "output_type": "display_data"
    },
    {
     "data": {
      "text/plain": [
       "[stdout:34] Proc 0 out of 1 procs has\n"
      ]
     },
     "metadata": {},
     "output_type": "display_data"
    },
    {
     "data": {
      "text/plain": [
       "[stdout:31] Proc 0 out of 1 procs has\n"
      ]
     },
     "metadata": {},
     "output_type": "display_data"
    },
    {
     "data": {
      "text/plain": [
       "[stdout:9] Proc 0 out of 1 procs has\n"
      ]
     },
     "metadata": {},
     "output_type": "display_data"
    },
    {
     "data": {
      "text/plain": [
       "[stdout:1] Proc 0 out of 1 procs has\n"
      ]
     },
     "metadata": {},
     "output_type": "display_data"
    },
    {
     "data": {
      "text/plain": [
       "[stdout:16] Proc 0 out of 1 procs has\n"
      ]
     },
     "metadata": {},
     "output_type": "display_data"
    },
    {
     "data": {
      "text/plain": [
       "[stdout:27] Proc 0 out of 1 procs has\n"
      ]
     },
     "metadata": {},
     "output_type": "display_data"
    },
    {
     "data": {
      "text/plain": [
       "[stdout:26] Proc 0 out of 1 procs has\n"
      ]
     },
     "metadata": {},
     "output_type": "display_data"
    },
    {
     "data": {
      "text/plain": [
       "[stdout:18] Proc 0 out of 1 procs has\n"
      ]
     },
     "metadata": {},
     "output_type": "display_data"
    },
    {
     "data": {
      "text/plain": [
       "[stdout:4] Proc 0 out of 1 procs has\n"
      ]
     },
     "metadata": {},
     "output_type": "display_data"
    },
    {
     "data": {
      "text/plain": [
       "[stdout:25] Proc 0 out of 1 procs has\n"
      ]
     },
     "metadata": {},
     "output_type": "display_data"
    },
    {
     "data": {
      "text/plain": [
       "[stdout:40] Proc 0 out of 1 procs has\n"
      ]
     },
     "metadata": {},
     "output_type": "display_data"
    },
    {
     "data": {
      "text/plain": [
       "[stdout:45] Proc 0 out of 1 procs has\n"
      ]
     },
     "metadata": {},
     "output_type": "display_data"
    },
    {
     "data": {
      "text/plain": [
       "[stdout:44] Proc 0 out of 1 procs has\n"
      ]
     },
     "metadata": {},
     "output_type": "display_data"
    },
    {
     "data": {
      "text/plain": [
       "[stdout:32] Proc 0 out of 1 procs has\n"
      ]
     },
     "metadata": {},
     "output_type": "display_data"
    },
    {
     "data": {
      "text/plain": [
       "[stdout:6] Proc 0 out of 1 procs has\n"
      ]
     },
     "metadata": {},
     "output_type": "display_data"
    },
    {
     "data": {
      "text/plain": [
       "[stdout:38] Proc 0 out of 1 procs has\n"
      ]
     },
     "metadata": {},
     "output_type": "display_data"
    },
    {
     "data": {
      "text/plain": [
       "[stdout:21] Proc 0 out of 1 procs has\n"
      ]
     },
     "metadata": {},
     "output_type": "display_data"
    },
    {
     "data": {
      "text/plain": [
       "[stdout:35] Proc 0 out of 1 procs has\n"
      ]
     },
     "metadata": {},
     "output_type": "display_data"
    },
    {
     "ename": "AlreadyDisplayedError",
     "evalue": "1 errors",
     "output_type": "error",
     "traceback": [
      "1 errors"
     ]
    }
   ],
   "source": [
    "%%px\n",
    "from mpi4py import MPI\n",
    "me = MPI.COMM_WORLD.Get_rank()\n",
    "nprocs = MPI.COMM_WORLD.Get_size()\n",
    "print(\"Proc %d out of %d procs has\" % (me,nprocs))"
   ]
  },
  {
   "cell_type": "code",
   "execution_count": null,
   "id": "53f0f842",
   "metadata": {},
   "outputs": [],
   "source": [
    "import numpy as np\n",
    "from autogabi.analysis import GBStructure\n",
    "from autogabi.plotting import render_ovito"
   ]
  },
  {
   "cell_type": "code",
   "execution_count": 4,
   "id": "d78e2752",
   "metadata": {},
   "outputs": [
    {
     "data": {
      "text/plain": [
       "[stdout:3] LAMMPS (29 Sep 2021 - Update 1)\n",
       "  using 1 OpenMP thread(s) per MPI task\n",
       "LAMMPS output is captured by PyLammps wrapper\n"
      ]
     },
     "metadata": {},
     "output_type": "display_data"
    },
    {
     "data": {
      "text/plain": [
       "[stdout:45] LAMMPS (29 Sep 2021 - Update 1)\n",
       "  using 1 OpenMP thread(s) per MPI task\n",
       "LAMMPS output is captured by PyLammps wrapper\n"
      ]
     },
     "metadata": {},
     "output_type": "display_data"
    },
    {
     "data": {
      "text/plain": [
       "[stdout:42] LAMMPS (29 Sep 2021 - Update 1)\n",
       "  using 1 OpenMP thread(s) per MPI task\n",
       "LAMMPS output is captured by PyLammps wrapper\n"
      ]
     },
     "metadata": {},
     "output_type": "display_data"
    },
    {
     "data": {
      "text/plain": [
       "[stdout:28] LAMMPS (29 Sep 2021 - Update 1)\n",
       "  using 1 OpenMP thread(s) per MPI task\n",
       "LAMMPS output is captured by PyLammps wrapper\n"
      ]
     },
     "metadata": {},
     "output_type": "display_data"
    },
    {
     "data": {
      "text/plain": [
       "[stdout:14] LAMMPS (29 Sep 2021 - Update 1)\n",
       "  using 1 OpenMP thread(s) per MPI task\n",
       "LAMMPS output is captured by PyLammps wrapper\n"
      ]
     },
     "metadata": {},
     "output_type": "display_data"
    },
    {
     "data": {
      "text/plain": [
       "[stdout:4] LAMMPS (29 Sep 2021 - Update 1)\n",
       "  using 1 OpenMP thread(s) per MPI task\n",
       "LAMMPS output is captured by PyLammps wrapper\n"
      ]
     },
     "metadata": {},
     "output_type": "display_data"
    },
    {
     "data": {
      "text/plain": [
       "[stdout:1] LAMMPS (29 Sep 2021 - Update 1)\n",
       "  using 1 OpenMP thread(s) per MPI task\n",
       "LAMMPS output is captured by PyLammps wrapper\n"
      ]
     },
     "metadata": {},
     "output_type": "display_data"
    },
    {
     "data": {
      "text/plain": [
       "[stdout:17] LAMMPS (29 Sep 2021 - Update 1)\n",
       "  using 1 OpenMP thread(s) per MPI task\n",
       "LAMMPS output is captured by PyLammps wrapper\n"
      ]
     },
     "metadata": {},
     "output_type": "display_data"
    },
    {
     "data": {
      "text/plain": [
       "[stdout:30] LAMMPS (29 Sep 2021 - Update 1)\n",
       "  using 1 OpenMP thread(s) per MPI task\n",
       "LAMMPS output is captured by PyLammps wrapper\n"
      ]
     },
     "metadata": {},
     "output_type": "display_data"
    },
    {
     "data": {
      "text/plain": [
       "[stdout:22] LAMMPS (29 Sep 2021 - Update 1)\n",
       "  using 1 OpenMP thread(s) per MPI task\n",
       "LAMMPS output is captured by PyLammps wrapper\n"
      ]
     },
     "metadata": {},
     "output_type": "display_data"
    },
    {
     "data": {
      "text/plain": [
       "[stdout:13] LAMMPS (29 Sep 2021 - Update 1)\n",
       "  using 1 OpenMP thread(s) per MPI task\n",
       "LAMMPS output is captured by PyLammps wrapper\n"
      ]
     },
     "metadata": {},
     "output_type": "display_data"
    },
    {
     "data": {
      "text/plain": [
       "[stdout:27] LAMMPS (29 Sep 2021 - Update 1)\n",
       "  using 1 OpenMP thread(s) per MPI task\n",
       "LAMMPS output is captured by PyLammps wrapper\n"
      ]
     },
     "metadata": {},
     "output_type": "display_data"
    },
    {
     "data": {
      "text/plain": [
       "[stdout:38] LAMMPS (29 Sep 2021 - Update 1)\n",
       "  using 1 OpenMP thread(s) per MPI task\n",
       "LAMMPS output is captured by PyLammps wrapper\n"
      ]
     },
     "metadata": {},
     "output_type": "display_data"
    },
    {
     "data": {
      "text/plain": [
       "[stdout:43] LAMMPS (29 Sep 2021 - Update 1)\n",
       "  using 1 OpenMP thread(s) per MPI task\n",
       "LAMMPS output is captured by PyLammps wrapper\n"
      ]
     },
     "metadata": {},
     "output_type": "display_data"
    },
    {
     "data": {
      "text/plain": [
       "[stdout:25] LAMMPS (29 Sep 2021 - Update 1)\n",
       "  using 1 OpenMP thread(s) per MPI task\n",
       "LAMMPS output is captured by PyLammps wrapper\n"
      ]
     },
     "metadata": {},
     "output_type": "display_data"
    },
    {
     "data": {
      "text/plain": [
       "[stdout:46] LAMMPS (29 Sep 2021 - Update 1)\n",
       "  using 1 OpenMP thread(s) per MPI task\n",
       "LAMMPS output is captured by PyLammps wrapper\n"
      ]
     },
     "metadata": {},
     "output_type": "display_data"
    },
    {
     "data": {
      "text/plain": [
       "[stdout:11] LAMMPS (29 Sep 2021 - Update 1)\n",
       "  using 1 OpenMP thread(s) per MPI task\n",
       "LAMMPS output is captured by PyLammps wrapper\n"
      ]
     },
     "metadata": {},
     "output_type": "display_data"
    },
    {
     "data": {
      "text/plain": [
       "[stdout:24] LAMMPS (29 Sep 2021 - Update 1)\n",
       "  using 1 OpenMP thread(s) per MPI task\n",
       "LAMMPS output is captured by PyLammps wrapper\n"
      ]
     },
     "metadata": {},
     "output_type": "display_data"
    },
    {
     "data": {
      "text/plain": [
       "[stdout:19] LAMMPS (29 Sep 2021 - Update 1)\n",
       "  using 1 OpenMP thread(s) per MPI task\n",
       "LAMMPS output is captured by PyLammps wrapper\n"
      ]
     },
     "metadata": {},
     "output_type": "display_data"
    },
    {
     "data": {
      "text/plain": [
       "[stdout:15] LAMMPS (29 Sep 2021 - Update 1)\n",
       "  using 1 OpenMP thread(s) per MPI task\n",
       "LAMMPS output is captured by PyLammps wrapper\n"
      ]
     },
     "metadata": {},
     "output_type": "display_data"
    },
    {
     "data": {
      "text/plain": [
       "[stdout:31] LAMMPS (29 Sep 2021 - Update 1)\n",
       "  using 1 OpenMP thread(s) per MPI task\n",
       "LAMMPS output is captured by PyLammps wrapper\n"
      ]
     },
     "metadata": {},
     "output_type": "display_data"
    },
    {
     "data": {
      "text/plain": [
       "[stdout:32] LAMMPS (29 Sep 2021 - Update 1)\n",
       "LAMMPS output is captured by PyLammps wrapper\n",
       "  using 1 OpenMP thread(s) per MPI task\n"
      ]
     },
     "metadata": {},
     "output_type": "display_data"
    },
    {
     "data": {
      "text/plain": [
       "[stdout:10] LAMMPS (29 Sep 2021 - Update 1)\n",
       "  using 1 OpenMP thread(s) per MPI task\n",
       "LAMMPS output is captured by PyLammps wrapper\n"
      ]
     },
     "metadata": {},
     "output_type": "display_data"
    },
    {
     "data": {
      "text/plain": [
       "[stdout:0] LAMMPS (29 Sep 2021 - Update 1)\n",
       "  using 1 OpenMP thread(s) per MPI task\n",
       "LAMMPS output is captured by PyLammps wrapper\n"
      ]
     },
     "metadata": {},
     "output_type": "display_data"
    },
    {
     "data": {
      "text/plain": [
       "[stdout:39] LAMMPS (29 Sep 2021 - Update 1)\n",
       "  using 1 OpenMP thread(s) per MPI task\n",
       "LAMMPS output is captured by PyLammps wrapper\n"
      ]
     },
     "metadata": {},
     "output_type": "display_data"
    },
    {
     "data": {
      "text/plain": [
       "[stdout:26] LAMMPS (29 Sep 2021 - Update 1)\n",
       "  using 1 OpenMP thread(s) per MPI task\n",
       "LAMMPS output is captured by PyLammps wrapper\n"
      ]
     },
     "metadata": {},
     "output_type": "display_data"
    },
    {
     "data": {
      "text/plain": [
       "[stdout:37] LAMMPS (29 Sep 2021 - Update 1)\n",
       "  using 1 OpenMP thread(s) per MPI task\n",
       "LAMMPS output is captured by PyLammps wrapper\n"
      ]
     },
     "metadata": {},
     "output_type": "display_data"
    },
    {
     "data": {
      "text/plain": [
       "[stdout:7] LAMMPS (29 Sep 2021 - Update 1)\n",
       "  using 1 OpenMP thread(s) per MPI task\n",
       "LAMMPS output is captured by PyLammps wrapper\n"
      ]
     },
     "metadata": {},
     "output_type": "display_data"
    },
    {
     "data": {
      "text/plain": [
       "[stdout:35] LAMMPS (29 Sep 2021 - Update 1)\n",
       "  using 1 OpenMP thread(s) per MPI task\n",
       "LAMMPS output is captured by PyLammps wrapper\n"
      ]
     },
     "metadata": {},
     "output_type": "display_data"
    },
    {
     "data": {
      "text/plain": [
       "[stdout:21] LAMMPS (29 Sep 2021 - Update 1)\n",
       "LAMMPS output is captured by PyLammps wrapper\n",
       "  using 1 OpenMP thread(s) per MPI task\n"
      ]
     },
     "metadata": {},
     "output_type": "display_data"
    },
    {
     "data": {
      "text/plain": [
       "[stdout:8] LAMMPS (29 Sep 2021 - Update 1)\n",
       "  using 1 OpenMP thread(s) per MPI task\n",
       "LAMMPS output is captured by PyLammps wrapper\n"
      ]
     },
     "metadata": {},
     "output_type": "display_data"
    },
    {
     "data": {
      "text/plain": [
       "[stdout:41] LAMMPS (29 Sep 2021 - Update 1)\n",
       "  using 1 OpenMP thread(s) per MPI task\n",
       "LAMMPS output is captured by PyLammps wrapper\n"
      ]
     },
     "metadata": {},
     "output_type": "display_data"
    },
    {
     "data": {
      "text/plain": [
       "[stdout:23] LAMMPS (29 Sep 2021 - Update 1)\n",
       "  using 1 OpenMP thread(s) per MPI task\n",
       "LAMMPS output is captured by PyLammps wrapper\n"
      ]
     },
     "metadata": {},
     "output_type": "display_data"
    },
    {
     "data": {
      "text/plain": [
       "[stdout:12] LAMMPS (29 Sep 2021 - Update 1)\n",
       "  using 1 OpenMP thread(s) per MPI task\n",
       "LAMMPS output is captured by PyLammps wrapper\n"
      ]
     },
     "metadata": {},
     "output_type": "display_data"
    },
    {
     "data": {
      "text/plain": [
       "[stdout:29] LAMMPS (29 Sep 2021 - Update 1)\n",
       "  using 1 OpenMP thread(s) per MPI task\n",
       "LAMMPS output is captured by PyLammps wrapper\n"
      ]
     },
     "metadata": {},
     "output_type": "display_data"
    },
    {
     "data": {
      "text/plain": [
       "[stdout:2] LAMMPS (29 Sep 2021 - Update 1)\n",
       "  using 1 OpenMP thread(s) per MPI task\n",
       "LAMMPS output is captured by PyLammps wrapper\n"
      ]
     },
     "metadata": {},
     "output_type": "display_data"
    },
    {
     "data": {
      "text/plain": [
       "[stdout:47] LAMMPS (29 Sep 2021 - Update 1)\n",
       "  using 1 OpenMP thread(s) per MPI task\n",
       "LAMMPS output is captured by PyLammps wrapper\n"
      ]
     },
     "metadata": {},
     "output_type": "display_data"
    },
    {
     "data": {
      "text/plain": [
       "[stdout:9] LAMMPS (29 Sep 2021 - Update 1)\n",
       "  using 1 OpenMP thread(s) per MPI task\n",
       "LAMMPS output is captured by PyLammps wrapper\n"
      ]
     },
     "metadata": {},
     "output_type": "display_data"
    },
    {
     "data": {
      "text/plain": [
       "[stdout:18] LAMMPS (29 Sep 2021 - Update 1)\n",
       "  using 1 OpenMP thread(s) per MPI task\n",
       "LAMMPS output is captured by PyLammps wrapper\n"
      ]
     },
     "metadata": {},
     "output_type": "display_data"
    },
    {
     "data": {
      "text/plain": [
       "[stdout:16] LAMMPS (29 Sep 2021 - Update 1)\n",
       "  using 1 OpenMP thread(s) per MPI task\n",
       "LAMMPS output is captured by PyLammps wrapper\n"
      ]
     },
     "metadata": {},
     "output_type": "display_data"
    },
    {
     "data": {
      "text/plain": [
       "[stdout:40] LAMMPS (29 Sep 2021 - Update 1)\n",
       "  using 1 OpenMP thread(s) per MPI task\n",
       "LAMMPS output is captured by PyLammps wrapper\n"
      ]
     },
     "metadata": {},
     "output_type": "display_data"
    },
    {
     "data": {
      "text/plain": [
       "[stdout:34] LAMMPS (29 Sep 2021 - Update 1)\n",
       "  using 1 OpenMP thread(s) per MPI task\n",
       "LAMMPS output is captured by PyLammps wrapper\n"
      ]
     },
     "metadata": {},
     "output_type": "display_data"
    },
    {
     "data": {
      "text/plain": [
       "[stdout:6] LAMMPS (29 Sep 2021 - Update 1)\n",
       "  using 1 OpenMP thread(s) per MPI task\n",
       "LAMMPS output is captured by PyLammps wrapper\n"
      ]
     },
     "metadata": {},
     "output_type": "display_data"
    },
    {
     "data": {
      "text/plain": [
       "[stdout:20] LAMMPS (29 Sep 2021 - Update 1)\n",
       "  using 1 OpenMP thread(s) per MPI task\n",
       "LAMMPS output is captured by PyLammps wrapper\n"
      ]
     },
     "metadata": {},
     "output_type": "display_data"
    },
    {
     "data": {
      "text/plain": [
       "[stdout:5] LAMMPS (29 Sep 2021 - Update 1)\n",
       "LAMMPS output is captured by PyLammps wrapper  using 1 OpenMP thread(s) per MPI task\n",
       "\n"
      ]
     },
     "metadata": {},
     "output_type": "display_data"
    },
    {
     "data": {
      "text/plain": [
       "[stdout:33] LAMMPS (29 Sep 2021 - Update 1)\n",
       "  using 1 OpenMP thread(s) per MPI task\n",
       "LAMMPS output is captured by PyLammps wrapper\n"
      ]
     },
     "metadata": {},
     "output_type": "display_data"
    },
    {
     "data": {
      "text/plain": [
       "[stdout:36] LAMMPS (29 Sep 2021 - Update 1)\n",
       "  using 1 OpenMP thread(s) per MPI task\n",
       "LAMMPS output is captured by PyLammps wrapper\n"
      ]
     },
     "metadata": {},
     "output_type": "display_data"
    }
   ],
   "source": [
    "%%px\n",
    "gb = GBStructure('lammps', 'LSF_supercell_md3.lmp', pair_style='buck/coul/long 12', kspace_style='pppm 1.0e-4')"
   ]
  },
  {
   "cell_type": "code",
   "execution_count": 5,
   "id": "490ce9d6",
   "metadata": {},
   "outputs": [
    {
     "data": {
      "text/plain": [
       "[stdout:4] LAMMPS (29 Sep 2021 - Update 1)\n",
       "  using 1 OpenMP thread(s) per MPI task\n",
       "LAMMPS output is captured by PyLammps wrapper\n",
       "Total wall time: 0:00:05\n"
      ]
     },
     "metadata": {},
     "output_type": "display_data"
    },
    {
     "data": {
      "text/plain": [
       "[stdout:0] LAMMPS (29 Sep 2021 - Update 1)\n",
       "  using 1 OpenMP thread(s) per MPI task\n",
       "LAMMPS output is captured by PyLammps wrapper\n",
       "Total wall time: 0:00:05\n"
      ]
     },
     "metadata": {},
     "output_type": "display_data"
    },
    {
     "data": {
      "text/plain": [
       "[stdout:2] LAMMPS (29 Sep 2021 - Update 1)\n",
       "  using 1 OpenMP thread(s) per MPI task\n",
       "LAMMPS output is captured by PyLammps wrapper\n",
       "Total wall time: 0:00:05\n"
      ]
     },
     "metadata": {},
     "output_type": "display_data"
    },
    {
     "data": {
      "text/plain": [
       "[stdout:13] LAMMPS (29 Sep 2021 - Update 1)\n",
       "  using 1 OpenMP thread(s) per MPI task\n",
       "LAMMPS output is captured by PyLammps wrapper\n",
       "Total wall time: 0:00:05\n"
      ]
     },
     "metadata": {},
     "output_type": "display_data"
    },
    {
     "data": {
      "text/plain": [
       "[stdout:36] LAMMPS (29 Sep 2021 - Update 1)\n",
       "  using 1 OpenMP thread(s) per MPI task\n",
       "LAMMPS output is captured by PyLammps wrapper\n",
       "Total wall time: 0:00:05\n"
      ]
     },
     "metadata": {},
     "output_type": "display_data"
    },
    {
     "data": {
      "text/plain": [
       "[stdout:5] LAMMPS (29 Sep 2021 - Update 1)\n",
       "  using 1 OpenMP thread(s) per MPI task\n",
       "LAMMPS output is captured by PyLammps wrapper\n",
       "Total wall time: 0:00:05\n"
      ]
     },
     "metadata": {},
     "output_type": "display_data"
    },
    {
     "data": {
      "text/plain": [
       "[stdout:16] LAMMPS (29 Sep 2021 - Update 1)\n",
       "  using 1 OpenMP thread(s) per MPI task\n",
       "LAMMPS output is captured by PyLammps wrapper\n",
       "Total wall time: 0:00:05\n"
      ]
     },
     "metadata": {},
     "output_type": "display_data"
    },
    {
     "data": {
      "text/plain": [
       "[stdout:3] LAMMPS (29 Sep 2021 - Update 1)\n",
       "  using 1 OpenMP thread(s) per MPI task\n",
       "LAMMPS output is captured by PyLammps wrapper\n",
       "Total wall time: 0:00:05\n"
      ]
     },
     "metadata": {},
     "output_type": "display_data"
    },
    {
     "data": {
      "text/plain": [
       "[stdout:9] LAMMPS (29 Sep 2021 - Update 1)\n",
       "  using 1 OpenMP thread(s) per MPI task\n",
       "LAMMPS output is captured by PyLammps wrapper\n",
       "Total wall time: 0:00:05\n"
      ]
     },
     "metadata": {},
     "output_type": "display_data"
    },
    {
     "data": {
      "text/plain": [
       "[stdout:7] LAMMPS (29 Sep 2021 - Update 1)\n",
       "  using 1 OpenMP thread(s) per MPI task\n",
       "LAMMPS output is captured by PyLammps wrapper\n",
       "Total wall time: 0:00:05\n"
      ]
     },
     "metadata": {},
     "output_type": "display_data"
    },
    {
     "data": {
      "text/plain": [
       "[stdout:38] LAMMPS (29 Sep 2021 - Update 1)\n",
       "  using 1 OpenMP thread(s) per MPI task\n",
       "LAMMPS output is captured by PyLammps wrapper\n",
       "Total wall time: 0:00:05\n"
      ]
     },
     "metadata": {},
     "output_type": "display_data"
    },
    {
     "data": {
      "text/plain": [
       "[stdout:20] LAMMPS (29 Sep 2021 - Update 1)\n",
       "  using 1 OpenMP thread(s) per MPI task\n",
       "LAMMPS output is captured by PyLammps wrapper\n",
       "Total wall time: 0:00:05\n"
      ]
     },
     "metadata": {},
     "output_type": "display_data"
    },
    {
     "data": {
      "text/plain": [
       "[stdout:6] LAMMPS (29 Sep 2021 - Update 1)\n",
       "  using 1 OpenMP thread(s) per MPI task\n",
       "LAMMPS output is captured by PyLammps wrapper\n",
       "Total wall time: 0:00:05\n"
      ]
     },
     "metadata": {},
     "output_type": "display_data"
    },
    {
     "data": {
      "text/plain": [
       "[stdout:14] LAMMPS (29 Sep 2021 - Update 1)\n",
       "  using 1 OpenMP thread(s) per MPI task\n",
       "LAMMPS output is captured by PyLammps wrapper\n",
       "Total wall time: 0:00:05\n"
      ]
     },
     "metadata": {},
     "output_type": "display_data"
    },
    {
     "data": {
      "text/plain": [
       "[stdout:12] LAMMPS (29 Sep 2021 - Update 1)\n",
       "  using 1 OpenMP thread(s) per MPI task\n",
       "LAMMPS output is captured by PyLammps wrapper\n",
       "Total wall time: 0:00:05\n"
      ]
     },
     "metadata": {},
     "output_type": "display_data"
    },
    {
     "data": {
      "text/plain": [
       "[stdout:23] LAMMPS (29 Sep 2021 - Update 1)\n",
       "  using 1 OpenMP thread(s) per MPI task\n",
       "LAMMPS output is captured by PyLammps wrapper\n",
       "Total wall time: 0:00:05\n"
      ]
     },
     "metadata": {},
     "output_type": "display_data"
    },
    {
     "data": {
      "text/plain": [
       "[stdout:31] LAMMPS (29 Sep 2021 - Update 1)\n",
       "  using 1 OpenMP thread(s) per MPI task\n",
       "LAMMPS output is captured by PyLammps wrapper\n",
       "Total wall time: 0:00:05\n"
      ]
     },
     "metadata": {},
     "output_type": "display_data"
    },
    {
     "data": {
      "text/plain": [
       "[stdout:28] LAMMPS (29 Sep 2021 - Update 1)\n",
       "  using 1 OpenMP thread(s) per MPI task\n",
       "LAMMPS output is captured by PyLammps wrapper\n",
       "Total wall time: 0:00:05\n"
      ]
     },
     "metadata": {},
     "output_type": "display_data"
    },
    {
     "data": {
      "text/plain": [
       "[stdout:17] LAMMPS (29 Sep 2021 - Update 1)\n",
       "  using 1 OpenMP thread(s) per MPI task\n",
       "LAMMPS output is captured by PyLammps wrapper\n",
       "Total wall time: 0:00:05\n"
      ]
     },
     "metadata": {},
     "output_type": "display_data"
    },
    {
     "data": {
      "text/plain": [
       "[stdout:8] LAMMPS (29 Sep 2021 - Update 1)\n",
       "  using 1 OpenMP thread(s) per MPI task\n",
       "LAMMPS output is captured by PyLammps wrapper\n",
       "Total wall time: 0:00:05\n"
      ]
     },
     "metadata": {},
     "output_type": "display_data"
    },
    {
     "data": {
      "text/plain": [
       "[stdout:15] LAMMPS (29 Sep 2021 - Update 1)\n",
       "  using 1 OpenMP thread(s) per MPI task\n",
       "LAMMPS output is captured by PyLammps wrapper\n",
       "Total wall time: 0:00:05\n"
      ]
     },
     "metadata": {},
     "output_type": "display_data"
    },
    {
     "data": {
      "text/plain": [
       "[stdout:21] LAMMPS (29 Sep 2021 - Update 1)\n",
       "  using 1 OpenMP thread(s) per MPI task\n",
       "LAMMPS output is captured by PyLammps wrapper\n",
       "Total wall time: 0:00:05\n"
      ]
     },
     "metadata": {},
     "output_type": "display_data"
    },
    {
     "data": {
      "text/plain": [
       "[stdout:45] LAMMPS (29 Sep 2021 - Update 1)\n",
       "  using 1 OpenMP thread(s) per MPI task\n",
       "LAMMPS output is captured by PyLammps wrapper\n",
       "Total wall time: 0:00:05\n"
      ]
     },
     "metadata": {},
     "output_type": "display_data"
    },
    {
     "data": {
      "text/plain": [
       "[stdout:35] LAMMPS (29 Sep 2021 - Update 1)\n",
       "  using 1 OpenMP thread(s) per MPI task\n",
       "LAMMPS output is captured by PyLammps wrapper\n",
       "Total wall time: 0:00:05\n"
      ]
     },
     "metadata": {},
     "output_type": "display_data"
    },
    {
     "data": {
      "text/plain": [
       "[stdout:11] LAMMPS (29 Sep 2021 - Update 1)\n",
       "  using 1 OpenMP thread(s) per MPI task\n",
       "LAMMPS output is captured by PyLammps wrapper\n"
      ]
     },
     "metadata": {},
     "output_type": "display_data"
    },
    {
     "data": {
      "text/plain": [
       "[stdout:24] LAMMPS (29 Sep 2021 - Update 1)\n",
       "  using 1 OpenMP thread(s) per MPI task\n",
       "LAMMPS output is captured by PyLammps wrapper\n",
       "Total wall time: 0:00:05\n"
      ]
     },
     "metadata": {},
     "output_type": "display_data"
    },
    {
     "data": {
      "text/plain": [
       "[stdout:30] LAMMPS (29 Sep 2021 - Update 1)\n",
       "  using 1 OpenMP thread(s) per MPI task\n",
       "LAMMPS output is captured by PyLammps wrapper\n",
       "Total wall time: 0:00:05\n"
      ]
     },
     "metadata": {},
     "output_type": "display_data"
    },
    {
     "data": {
      "text/plain": [
       "[stdout:10] LAMMPS (29 Sep 2021 - Update 1)\n",
       "  using 1 OpenMP thread(s) per MPI task\n",
       "LAMMPS output is captured by PyLammps wrapper\n",
       "Total wall time: 0:00:05\n"
      ]
     },
     "metadata": {},
     "output_type": "display_data"
    },
    {
     "data": {
      "text/plain": [
       "[stdout:29] LAMMPS output is captured by PyLammps wrapperLAMMPS (29 Sep 2021 - Update 1)\n",
       "  using 1 OpenMP thread(s) per MPI task\n",
       "\n",
       "Total wall time: 0:00:05\n"
      ]
     },
     "metadata": {},
     "output_type": "display_data"
    },
    {
     "data": {
      "text/plain": [
       "[stdout:18] LAMMPS (29 Sep 2021 - Update 1)\n",
       "  using 1 OpenMP thread(s) per MPI task\n",
       "LAMMPS output is captured by PyLammps wrapper\n",
       "Total wall time: 0:00:05\n"
      ]
     },
     "metadata": {},
     "output_type": "display_data"
    },
    {
     "data": {
      "text/plain": [
       "[stdout:22] LAMMPS (29 Sep 2021 - Update 1)\n",
       "  using 1 OpenMP thread(s) per MPI task\n",
       "LAMMPS output is captured by PyLammps wrapper\n",
       "Total wall time: 0:00:05\n"
      ]
     },
     "metadata": {},
     "output_type": "display_data"
    },
    {
     "data": {
      "text/plain": [
       "[stdout:27] LAMMPS (29 Sep 2021 - Update 1)\n",
       "  using 1 OpenMP thread(s) per MPI task\n",
       "LAMMPS output is captured by PyLammps wrapper\n"
      ]
     },
     "metadata": {},
     "output_type": "display_data"
    },
    {
     "data": {
      "text/plain": [
       "[stdout:19] LAMMPS (29 Sep 2021 - Update 1)\n",
       "  using 1 OpenMP thread(s) per MPI task\n",
       "LAMMPS output is captured by PyLammps wrapper\n",
       "Total wall time: 0:00:05\n"
      ]
     },
     "metadata": {},
     "output_type": "display_data"
    },
    {
     "data": {
      "text/plain": [
       "[stdout:41] LAMMPS (29 Sep 2021 - Update 1)\n",
       "  using 1 OpenMP thread(s) per MPI task\n",
       "LAMMPS output is captured by PyLammps wrapper\n",
       "Total wall time: 0:00:05\n"
      ]
     },
     "metadata": {},
     "output_type": "display_data"
    },
    {
     "data": {
      "text/plain": [
       "[stdout:25] LAMMPS (29 Sep 2021 - Update 1)\n",
       "  using 1 OpenMP thread(s) per MPI task\n",
       "LAMMPS output is captured by PyLammps wrapper\n",
       "Total wall time: 0:00:05\n"
      ]
     },
     "metadata": {},
     "output_type": "display_data"
    },
    {
     "data": {
      "text/plain": [
       "[stdout:34] LAMMPS (29 Sep 2021 - Update 1)\n",
       "  using 1 OpenMP thread(s) per MPI task\n",
       "LAMMPS output is captured by PyLammps wrapper\n",
       "Total wall time: 0:00:05\n"
      ]
     },
     "metadata": {},
     "output_type": "display_data"
    },
    {
     "data": {
      "text/plain": [
       "[stdout:1] LAMMPS (29 Sep 2021 - Update 1)\n",
       "  using 1 OpenMP thread(s) per MPI task\n",
       "LAMMPS output is captured by PyLammps wrapper\n"
      ]
     },
     "metadata": {},
     "output_type": "display_data"
    },
    {
     "data": {
      "text/plain": [
       "[stdout:42] LAMMPS (29 Sep 2021 - Update 1)\n",
       "  using 1 OpenMP thread(s) per MPI task\n",
       "LAMMPS output is captured by PyLammps wrapper\n",
       "Total wall time: 0:00:05\n"
      ]
     },
     "metadata": {},
     "output_type": "display_data"
    },
    {
     "data": {
      "text/plain": [
       "[stdout:40] LAMMPS (29 Sep 2021 - Update 1)\n",
       "  using 1 OpenMP thread(s) per MPI task\n",
       "LAMMPS output is captured by PyLammps wrapper\n",
       "Total wall time: 0:00:05\n"
      ]
     },
     "metadata": {},
     "output_type": "display_data"
    },
    {
     "data": {
      "text/plain": [
       "[stdout:37] LAMMPS (29 Sep 2021 - Update 1)\n",
       "  using 1 OpenMP thread(s) per MPI task\n",
       "LAMMPS output is captured by PyLammps wrapper\n",
       "Total wall time: 0:00:05\n"
      ]
     },
     "metadata": {},
     "output_type": "display_data"
    },
    {
     "data": {
      "text/plain": [
       "[stdout:43] LAMMPS (29 Sep 2021 - Update 1)\n",
       "  using 1 OpenMP thread(s) per MPI task\n",
       "LAMMPS output is captured by PyLammps wrapper\n",
       "Total wall time: 0:00:05\n"
      ]
     },
     "metadata": {},
     "output_type": "display_data"
    },
    {
     "data": {
      "text/plain": [
       "[stdout:39] LAMMPS (29 Sep 2021 - Update 1)\n",
       "  using 1 OpenMP thread(s) per MPI task\n",
       "LAMMPS output is captured by PyLammps wrapper\n",
       "Total wall time: 0:00:05\n"
      ]
     },
     "metadata": {},
     "output_type": "display_data"
    },
    {
     "data": {
      "text/plain": [
       "[stdout:33] LAMMPS (29 Sep 2021 - Update 1)\n",
       "  using 1 OpenMP thread(s) per MPI task\n",
       "LAMMPS output is captured by PyLammps wrapper\n",
       "Total wall time: 0:00:05\n"
      ]
     },
     "metadata": {},
     "output_type": "display_data"
    },
    {
     "data": {
      "text/plain": [
       "[stdout:26] LAMMPS output is captured by PyLammps wrapper\n",
       "LAMMPS (29 Sep 2021 - Update 1)\n",
       "  using 1 OpenMP thread(s) per MPI task\n",
       "Total wall time: 0:00:05\n"
      ]
     },
     "metadata": {},
     "output_type": "display_data"
    },
    {
     "data": {
      "text/plain": [
       "[stdout:32] LAMMPS (29 Sep 2021 - Update 1)\n",
       "  using 1 OpenMP thread(s) per MPI task\n",
       "LAMMPS output is captured by PyLammps wrapper\n",
       "Total wall time: 0:00:05\n"
      ]
     },
     "metadata": {},
     "output_type": "display_data"
    },
    {
     "data": {
      "text/plain": [
       "[stdout:47] LAMMPS output is captured by PyLammps wrapper\n",
       "LAMMPS (29 Sep 2021 - Update 1)\n",
       "  using 1 OpenMP thread(s) per MPI task\n",
       "Total wall time: 0:00:05\n"
      ]
     },
     "metadata": {},
     "output_type": "display_data"
    },
    {
     "data": {
      "text/plain": [
       "[stdout:46] LAMMPS output is captured by PyLammps wrapper\n",
       "LAMMPS (29 Sep 2021 - Update 1)\n",
       "  using 1 OpenMP thread(s) per MPI task\n",
       "Total wall time: 0:00:05\n"
      ]
     },
     "metadata": {},
     "output_type": "display_data"
    },
    {
     "data": {
      "application/vnd.jupyter.widget-view+json": {
       "model_id": "a887e62aa5114c7186eeef34debd26b3",
       "version_major": 2,
       "version_minor": 0
      },
      "text/plain": [
       "%px:   0%|          | 0/47 [00:00<?, ?tasks/s]"
      ]
     },
     "metadata": {},
     "output_type": "display_data"
    },
    {
     "name": "stderr",
     "output_type": "stream",
     "text": [
      "2021-11-25 15:28:59.086 [IPClusterStart] ERROR | IPython cluster: stopping\n",
      "2021-11-25 15:28:59.086 [IPClusterStart] Stopping controller\n",
      "2021-11-25 15:28:59.578 [IPClusterStart] Controller stopped: {'exit_code': 0, 'pid': 57927, 'identifier': 'ipcontroller-57823'}\n",
      "2021-11-25 15:28:59.612 [IPClusterStart] Stopping engine(s): 1637850381\n",
      "ERROR:root:Internal Python error in the inspect module.\n",
      "Below is the traceback from this internal error.\n",
      "\n"
     ]
    },
    {
     "name": "stdout",
     "output_type": "stream",
     "text": [
      "Traceback (most recent call last):\n",
      "  File \"/rwthfs/rz/cluster/home/ab542498/python/base-3.9/lib/python3.9/site-packages/IPython/core/interactiveshell.py\", line 3444, in run_code\n",
      "    exec(code_obj, self.user_global_ns, self.user_ns)\n",
      "  File \"/tmp/ab542498/login18-2_104474/ipykernel_56947/3507070107.py\", line 1, in <module>\n",
      "    get_ipython().run_cell_magic('px', '', \"gb = GBStructure('lammps', 'LSF_supercell_md3.lmp', pair_style='buck/coul/long 12', kspace_style='pppm 1.0e-4')\\ngb.pylmp.thermo(5)\\ngb.minimise()\\n\")\n",
      "  File \"/rwthfs/rz/cluster/home/ab542498/python/base-3.9/lib/python3.9/site-packages/IPython/core/interactiveshell.py\", line 2406, in run_cell_magic\n",
      "    result = fn(*args, **kwargs)\n",
      "  File \"/rwthfs/rz/cluster/home/ab542498/python/base-3.9/lib/python3.9/site-packages/ipyparallel/client/magics.py\", line 444, in cell_px\n",
      "    ar = self.parallel_execute(\n",
      "  File \"/rwthfs/rz/cluster/home/ab542498/python/base-3.9/lib/python3.9/site-packages/ipyparallel/client/magics.py\", line 397, in parallel_execute\n",
      "    result.wait_interactive()\n",
      "  File \"/rwthfs/rz/cluster/home/ab542498/python/base-3.9/lib/python3.9/site-packages/ipyparallel/client/asyncresult.py\", line 869, in wait_interactive\n",
      "    wait_result = self.wait(interval, return_when=return_when)\n",
      "  File \"/rwthfs/rz/cluster/home/ab542498/python/base-3.9/lib/python3.9/site-packages/ipyparallel/client/asyncresult.py\", line 497, in wait\n",
      "    self._ready_event.wait(timeout)\n",
      "  File \"/rwthfs/rz/SW/UTIL.common/Python/3.9.1/x86_64/lib/python3.9/threading.py\", line 574, in wait\n",
      "    signaled = self._cond.wait(timeout)\n",
      "  File \"/rwthfs/rz/SW/UTIL.common/Python/3.9.1/x86_64/lib/python3.9/threading.py\", line 316, in wait\n",
      "    gotit = waiter.acquire(True, timeout)\n",
      "KeyboardInterrupt\n",
      "\n",
      "During handling of the above exception, another exception occurred:\n",
      "\n",
      "Traceback (most recent call last):\n",
      "  File \"/rwthfs/rz/cluster/home/ab542498/python/base-3.9/lib/python3.9/site-packages/IPython/core/interactiveshell.py\", line 2064, in showtraceback\n",
      "    stb = value._render_traceback_()\n",
      "AttributeError: 'KeyboardInterrupt' object has no attribute '_render_traceback_'\n",
      "\n",
      "During handling of the above exception, another exception occurred:\n",
      "\n",
      "Traceback (most recent call last):\n",
      "  File \"/rwthfs/rz/cluster/home/ab542498/python/base-3.9/lib/python3.9/site-packages/IPython/core/ultratb.py\", line 1101, in get_records\n",
      "    return _fixed_getinnerframes(etb, number_of_lines_of_context, tb_offset)\n",
      "  File \"/rwthfs/rz/cluster/home/ab542498/python/base-3.9/lib/python3.9/site-packages/IPython/core/ultratb.py\", line 248, in wrapped\n",
      "    return f(*args, **kwargs)\n",
      "  File \"/rwthfs/rz/cluster/home/ab542498/python/base-3.9/lib/python3.9/site-packages/IPython/core/ultratb.py\", line 281, in _fixed_getinnerframes\n",
      "    records = fix_frame_records_filenames(inspect.getinnerframes(etb, context))\n",
      "  File \"/rwthfs/rz/SW/UTIL.common/Python/3.9.1/x86_64/lib/python3.9/inspect.py\", line 1541, in getinnerframes\n",
      "    frameinfo = (tb.tb_frame,) + getframeinfo(tb, context)\n",
      "  File \"/rwthfs/rz/SW/UTIL.common/Python/3.9.1/x86_64/lib/python3.9/inspect.py\", line 1499, in getframeinfo\n",
      "    filename = getsourcefile(frame) or getfile(frame)\n",
      "  File \"/rwthfs/rz/SW/UTIL.common/Python/3.9.1/x86_64/lib/python3.9/inspect.py\", line 709, in getsourcefile\n",
      "    if getattr(getmodule(object, filename), '__loader__', None) is not None:\n",
      "  File \"/rwthfs/rz/SW/UTIL.common/Python/3.9.1/x86_64/lib/python3.9/inspect.py\", line 752, in getmodule\n",
      "    f = getabsfile(module)\n",
      "  File \"/rwthfs/rz/SW/UTIL.common/Python/3.9.1/x86_64/lib/python3.9/inspect.py\", line 721, in getabsfile\n",
      "    _filename = getsourcefile(object) or getfile(object)\n",
      "  File \"/rwthfs/rz/SW/UTIL.common/Python/3.9.1/x86_64/lib/python3.9/inspect.py\", line 706, in getsourcefile\n",
      "    if os.path.exists(filename):\n",
      "  File \"/rwthfs/rz/SW/UTIL.common/Python/3.9.1/x86_64/lib/python3.9/genericpath.py\", line 19, in exists\n",
      "    os.stat(path)\n",
      "KeyboardInterrupt\n"
     ]
    },
    {
     "ename": "TypeError",
     "evalue": "object of type 'NoneType' has no len()",
     "output_type": "error",
     "traceback": [
      "\u001b[0;31m---------------------------------------------------------------------------\u001b[0m",
      "\u001b[0;31mKeyboardInterrupt\u001b[0m                         Traceback (most recent call last)",
      "    \u001b[0;31m[... skipping hidden 1 frame]\u001b[0m\n",
      "\u001b[0;32m/tmp/ab542498/login18-2_104474/ipykernel_56947/3507070107.py\u001b[0m in \u001b[0;36m<module>\u001b[0;34m\u001b[0m\n\u001b[0;32m----> 1\u001b[0;31m \u001b[0mget_ipython\u001b[0m\u001b[0;34m(\u001b[0m\u001b[0;34m)\u001b[0m\u001b[0;34m.\u001b[0m\u001b[0mrun_cell_magic\u001b[0m\u001b[0;34m(\u001b[0m\u001b[0;34m'px'\u001b[0m\u001b[0;34m,\u001b[0m \u001b[0;34m''\u001b[0m\u001b[0;34m,\u001b[0m \u001b[0;34m\"gb = GBStructure('lammps', 'LSF_supercell_md3.lmp', pair_style='buck/coul/long 12', kspace_style='pppm 1.0e-4')\\ngb.pylmp.thermo(5)\\ngb.minimise()\\n\"\u001b[0m\u001b[0;34m)\u001b[0m\u001b[0;34m\u001b[0m\u001b[0;34m\u001b[0m\u001b[0m\n\u001b[0m",
      "\u001b[0;32m/rwthfs/rz/cluster/home/ab542498/python/base-3.9/lib/python3.9/site-packages/IPython/core/interactiveshell.py\u001b[0m in \u001b[0;36mrun_cell_magic\u001b[0;34m(self, magic_name, line, cell)\u001b[0m\n\u001b[1;32m   2405\u001b[0m                 \u001b[0margs\u001b[0m \u001b[0;34m=\u001b[0m \u001b[0;34m(\u001b[0m\u001b[0mmagic_arg_s\u001b[0m\u001b[0;34m,\u001b[0m \u001b[0mcell\u001b[0m\u001b[0;34m)\u001b[0m\u001b[0;34m\u001b[0m\u001b[0;34m\u001b[0m\u001b[0m\n\u001b[0;32m-> 2406\u001b[0;31m                 \u001b[0mresult\u001b[0m \u001b[0;34m=\u001b[0m \u001b[0mfn\u001b[0m\u001b[0;34m(\u001b[0m\u001b[0;34m*\u001b[0m\u001b[0margs\u001b[0m\u001b[0;34m,\u001b[0m \u001b[0;34m**\u001b[0m\u001b[0mkwargs\u001b[0m\u001b[0;34m)\u001b[0m\u001b[0;34m\u001b[0m\u001b[0;34m\u001b[0m\u001b[0m\n\u001b[0m\u001b[1;32m   2407\u001b[0m             \u001b[0;32mreturn\u001b[0m \u001b[0mresult\u001b[0m\u001b[0;34m\u001b[0m\u001b[0;34m\u001b[0m\u001b[0m\n",
      "\u001b[0;32m/rwthfs/rz/cluster/home/ab542498/python/base-3.9/lib/python3.9/site-packages/ipyparallel/client/magics.py\u001b[0m in \u001b[0;36mcell_px\u001b[0;34m(self, line, cell)\u001b[0m\n\u001b[1;32m    443\u001b[0m         \u001b[0;32mtry\u001b[0m\u001b[0;34m:\u001b[0m\u001b[0;34m\u001b[0m\u001b[0;34m\u001b[0m\u001b[0m\n\u001b[0;32m--> 444\u001b[0;31m             ar = self.parallel_execute(\n\u001b[0m\u001b[1;32m    445\u001b[0m                 \u001b[0mcell\u001b[0m\u001b[0;34m,\u001b[0m\u001b[0;34m\u001b[0m\u001b[0;34m\u001b[0m\u001b[0m\n",
      "\u001b[0;32m/rwthfs/rz/cluster/home/ab542498/python/base-3.9/lib/python3.9/site-packages/ipyparallel/client/magics.py\u001b[0m in \u001b[0;36mparallel_execute\u001b[0;34m(self, cell, block, groupby, save_name, stream_output, progress_after)\u001b[0m\n\u001b[1;32m    396\u001b[0m                         \u001b[0;31m# not an immediate result, start interactive progress\u001b[0m\u001b[0;34m\u001b[0m\u001b[0;34m\u001b[0m\u001b[0;34m\u001b[0m\u001b[0m\n\u001b[0;32m--> 397\u001b[0;31m                         \u001b[0mresult\u001b[0m\u001b[0;34m.\u001b[0m\u001b[0mwait_interactive\u001b[0m\u001b[0;34m(\u001b[0m\u001b[0;34m)\u001b[0m\u001b[0;34m\u001b[0m\u001b[0;34m\u001b[0m\u001b[0m\n\u001b[0m\u001b[1;32m    398\u001b[0m                     \u001b[0mresult\u001b[0m\u001b[0;34m.\u001b[0m\u001b[0mwait_for_output\u001b[0m\u001b[0;34m(\u001b[0m\u001b[0;34m)\u001b[0m\u001b[0;34m\u001b[0m\u001b[0;34m\u001b[0m\u001b[0m\n",
      "\u001b[0;32m/rwthfs/rz/cluster/home/ab542498/python/base-3.9/lib/python3.9/site-packages/ipyparallel/client/asyncresult.py\u001b[0m in \u001b[0;36mwait_interactive\u001b[0;34m(self, interval, timeout, widget, return_when)\u001b[0m\n\u001b[1;32m    868\u001b[0m         ):\n\u001b[0;32m--> 869\u001b[0;31m             \u001b[0mwait_result\u001b[0m \u001b[0;34m=\u001b[0m \u001b[0mself\u001b[0m\u001b[0;34m.\u001b[0m\u001b[0mwait\u001b[0m\u001b[0;34m(\u001b[0m\u001b[0minterval\u001b[0m\u001b[0;34m,\u001b[0m \u001b[0mreturn_when\u001b[0m\u001b[0;34m=\u001b[0m\u001b[0mreturn_when\u001b[0m\u001b[0;34m)\u001b[0m\u001b[0;34m\u001b[0m\u001b[0;34m\u001b[0m\u001b[0m\n\u001b[0m\u001b[1;32m    870\u001b[0m             \u001b[0mprogress_bar\u001b[0m\u001b[0;34m.\u001b[0m\u001b[0mupdate\u001b[0m\u001b[0;34m(\u001b[0m\u001b[0mself\u001b[0m\u001b[0;34m.\u001b[0m\u001b[0mprogress\u001b[0m \u001b[0;34m-\u001b[0m \u001b[0mprogress_bar\u001b[0m\u001b[0;34m.\u001b[0m\u001b[0mn\u001b[0m\u001b[0;34m)\u001b[0m\u001b[0;34m\u001b[0m\u001b[0;34m\u001b[0m\u001b[0m\n",
      "\u001b[0;32m/rwthfs/rz/cluster/home/ab542498/python/base-3.9/lib/python3.9/site-packages/ipyparallel/client/asyncresult.py\u001b[0m in \u001b[0;36mwait\u001b[0;34m(self, timeout, return_when)\u001b[0m\n\u001b[1;32m    496\u001b[0m                 \u001b[0;32mreturn\u001b[0m \u001b[0;32mTrue\u001b[0m\u001b[0;34m\u001b[0m\u001b[0;34m\u001b[0m\u001b[0m\n\u001b[0;32m--> 497\u001b[0;31m             \u001b[0mself\u001b[0m\u001b[0;34m.\u001b[0m\u001b[0m_ready_event\u001b[0m\u001b[0;34m.\u001b[0m\u001b[0mwait\u001b[0m\u001b[0;34m(\u001b[0m\u001b[0mtimeout\u001b[0m\u001b[0;34m)\u001b[0m\u001b[0;34m\u001b[0m\u001b[0;34m\u001b[0m\u001b[0m\n\u001b[0m\u001b[1;32m    498\u001b[0m             \u001b[0mself\u001b[0m\u001b[0;34m.\u001b[0m\u001b[0mwait_for_output\u001b[0m\u001b[0;34m(\u001b[0m\u001b[0;36m0\u001b[0m\u001b[0;34m)\u001b[0m\u001b[0;34m\u001b[0m\u001b[0;34m\u001b[0m\u001b[0m\n",
      "\u001b[0;32m/rwthfs/rz/SW/UTIL.common/Python/3.9.1/x86_64/lib/python3.9/threading.py\u001b[0m in \u001b[0;36mwait\u001b[0;34m(self, timeout)\u001b[0m\n\u001b[1;32m    573\u001b[0m             \u001b[0;32mif\u001b[0m \u001b[0;32mnot\u001b[0m \u001b[0msignaled\u001b[0m\u001b[0;34m:\u001b[0m\u001b[0;34m\u001b[0m\u001b[0;34m\u001b[0m\u001b[0m\n\u001b[0;32m--> 574\u001b[0;31m                 \u001b[0msignaled\u001b[0m \u001b[0;34m=\u001b[0m \u001b[0mself\u001b[0m\u001b[0;34m.\u001b[0m\u001b[0m_cond\u001b[0m\u001b[0;34m.\u001b[0m\u001b[0mwait\u001b[0m\u001b[0;34m(\u001b[0m\u001b[0mtimeout\u001b[0m\u001b[0;34m)\u001b[0m\u001b[0;34m\u001b[0m\u001b[0;34m\u001b[0m\u001b[0m\n\u001b[0m\u001b[1;32m    575\u001b[0m             \u001b[0;32mreturn\u001b[0m \u001b[0msignaled\u001b[0m\u001b[0;34m\u001b[0m\u001b[0;34m\u001b[0m\u001b[0m\n",
      "\u001b[0;32m/rwthfs/rz/SW/UTIL.common/Python/3.9.1/x86_64/lib/python3.9/threading.py\u001b[0m in \u001b[0;36mwait\u001b[0;34m(self, timeout)\u001b[0m\n\u001b[1;32m    315\u001b[0m                 \u001b[0;32mif\u001b[0m \u001b[0mtimeout\u001b[0m \u001b[0;34m>\u001b[0m \u001b[0;36m0\u001b[0m\u001b[0;34m:\u001b[0m\u001b[0;34m\u001b[0m\u001b[0;34m\u001b[0m\u001b[0m\n\u001b[0;32m--> 316\u001b[0;31m                     \u001b[0mgotit\u001b[0m \u001b[0;34m=\u001b[0m \u001b[0mwaiter\u001b[0m\u001b[0;34m.\u001b[0m\u001b[0macquire\u001b[0m\u001b[0;34m(\u001b[0m\u001b[0;32mTrue\u001b[0m\u001b[0;34m,\u001b[0m \u001b[0mtimeout\u001b[0m\u001b[0;34m)\u001b[0m\u001b[0;34m\u001b[0m\u001b[0;34m\u001b[0m\u001b[0m\n\u001b[0m\u001b[1;32m    317\u001b[0m                 \u001b[0;32melse\u001b[0m\u001b[0;34m:\u001b[0m\u001b[0;34m\u001b[0m\u001b[0;34m\u001b[0m\u001b[0m\n",
      "\u001b[0;31mKeyboardInterrupt\u001b[0m: ",
      "\nDuring handling of the above exception, another exception occurred:\n",
      "\u001b[0;31mAttributeError\u001b[0m                            Traceback (most recent call last)",
      "\u001b[0;32m/rwthfs/rz/cluster/home/ab542498/python/base-3.9/lib/python3.9/site-packages/IPython/core/interactiveshell.py\u001b[0m in \u001b[0;36mshowtraceback\u001b[0;34m(self, exc_tuple, filename, tb_offset, exception_only, running_compiled_code)\u001b[0m\n\u001b[1;32m   2063\u001b[0m                         \u001b[0;31m# in the engines. This should return a list of strings.\u001b[0m\u001b[0;34m\u001b[0m\u001b[0;34m\u001b[0m\u001b[0;34m\u001b[0m\u001b[0m\n\u001b[0;32m-> 2064\u001b[0;31m                         \u001b[0mstb\u001b[0m \u001b[0;34m=\u001b[0m \u001b[0mvalue\u001b[0m\u001b[0;34m.\u001b[0m\u001b[0m_render_traceback_\u001b[0m\u001b[0;34m(\u001b[0m\u001b[0;34m)\u001b[0m\u001b[0;34m\u001b[0m\u001b[0;34m\u001b[0m\u001b[0m\n\u001b[0m\u001b[1;32m   2065\u001b[0m                     \u001b[0;32mexcept\u001b[0m \u001b[0mException\u001b[0m\u001b[0;34m:\u001b[0m\u001b[0;34m\u001b[0m\u001b[0;34m\u001b[0m\u001b[0m\n",
      "\u001b[0;31mAttributeError\u001b[0m: 'KeyboardInterrupt' object has no attribute '_render_traceback_'",
      "\nDuring handling of the above exception, another exception occurred:\n",
      "\u001b[0;31mTypeError\u001b[0m                                 Traceback (most recent call last)",
      "    \u001b[0;31m[... skipping hidden 1 frame]\u001b[0m\n",
      "\u001b[0;32m/rwthfs/rz/cluster/home/ab542498/python/base-3.9/lib/python3.9/site-packages/IPython/core/interactiveshell.py\u001b[0m in \u001b[0;36mshowtraceback\u001b[0;34m(self, exc_tuple, filename, tb_offset, exception_only, running_compiled_code)\u001b[0m\n\u001b[1;32m   2064\u001b[0m                         \u001b[0mstb\u001b[0m \u001b[0;34m=\u001b[0m \u001b[0mvalue\u001b[0m\u001b[0;34m.\u001b[0m\u001b[0m_render_traceback_\u001b[0m\u001b[0;34m(\u001b[0m\u001b[0;34m)\u001b[0m\u001b[0;34m\u001b[0m\u001b[0;34m\u001b[0m\u001b[0m\n\u001b[1;32m   2065\u001b[0m                     \u001b[0;32mexcept\u001b[0m \u001b[0mException\u001b[0m\u001b[0;34m:\u001b[0m\u001b[0;34m\u001b[0m\u001b[0;34m\u001b[0m\u001b[0m\n\u001b[0;32m-> 2066\u001b[0;31m                         stb = self.InteractiveTB.structured_traceback(etype,\n\u001b[0m\u001b[1;32m   2067\u001b[0m                                             value, tb, tb_offset=tb_offset)\n\u001b[1;32m   2068\u001b[0m \u001b[0;34m\u001b[0m\u001b[0m\n",
      "\u001b[0;32m/rwthfs/rz/cluster/home/ab542498/python/base-3.9/lib/python3.9/site-packages/IPython/core/ultratb.py\u001b[0m in \u001b[0;36mstructured_traceback\u001b[0;34m(self, etype, value, tb, tb_offset, number_of_lines_of_context)\u001b[0m\n\u001b[1;32m   1365\u001b[0m         \u001b[0;32melse\u001b[0m\u001b[0;34m:\u001b[0m\u001b[0;34m\u001b[0m\u001b[0;34m\u001b[0m\u001b[0m\n\u001b[1;32m   1366\u001b[0m             \u001b[0mself\u001b[0m\u001b[0;34m.\u001b[0m\u001b[0mtb\u001b[0m \u001b[0;34m=\u001b[0m \u001b[0mtb\u001b[0m\u001b[0;34m\u001b[0m\u001b[0;34m\u001b[0m\u001b[0m\n\u001b[0;32m-> 1367\u001b[0;31m         return FormattedTB.structured_traceback(\n\u001b[0m\u001b[1;32m   1368\u001b[0m             self, etype, value, tb, tb_offset, number_of_lines_of_context)\n\u001b[1;32m   1369\u001b[0m \u001b[0;34m\u001b[0m\u001b[0m\n",
      "\u001b[0;32m/rwthfs/rz/cluster/home/ab542498/python/base-3.9/lib/python3.9/site-packages/IPython/core/ultratb.py\u001b[0m in \u001b[0;36mstructured_traceback\u001b[0;34m(self, etype, value, tb, tb_offset, number_of_lines_of_context)\u001b[0m\n\u001b[1;32m   1265\u001b[0m         \u001b[0;32mif\u001b[0m \u001b[0mmode\u001b[0m \u001b[0;32min\u001b[0m \u001b[0mself\u001b[0m\u001b[0;34m.\u001b[0m\u001b[0mverbose_modes\u001b[0m\u001b[0;34m:\u001b[0m\u001b[0;34m\u001b[0m\u001b[0;34m\u001b[0m\u001b[0m\n\u001b[1;32m   1266\u001b[0m             \u001b[0;31m# Verbose modes need a full traceback\u001b[0m\u001b[0;34m\u001b[0m\u001b[0;34m\u001b[0m\u001b[0;34m\u001b[0m\u001b[0m\n\u001b[0;32m-> 1267\u001b[0;31m             return VerboseTB.structured_traceback(\n\u001b[0m\u001b[1;32m   1268\u001b[0m                 \u001b[0mself\u001b[0m\u001b[0;34m,\u001b[0m \u001b[0metype\u001b[0m\u001b[0;34m,\u001b[0m \u001b[0mvalue\u001b[0m\u001b[0;34m,\u001b[0m \u001b[0mtb\u001b[0m\u001b[0;34m,\u001b[0m \u001b[0mtb_offset\u001b[0m\u001b[0;34m,\u001b[0m \u001b[0mnumber_of_lines_of_context\u001b[0m\u001b[0;34m\u001b[0m\u001b[0;34m\u001b[0m\u001b[0m\n\u001b[1;32m   1269\u001b[0m             )\n",
      "\u001b[0;32m/rwthfs/rz/cluster/home/ab542498/python/base-3.9/lib/python3.9/site-packages/IPython/core/ultratb.py\u001b[0m in \u001b[0;36mstructured_traceback\u001b[0;34m(self, etype, evalue, etb, tb_offset, number_of_lines_of_context)\u001b[0m\n\u001b[1;32m   1122\u001b[0m         \u001b[0;34m\"\"\"Return a nice text document describing the traceback.\"\"\"\u001b[0m\u001b[0;34m\u001b[0m\u001b[0;34m\u001b[0m\u001b[0m\n\u001b[1;32m   1123\u001b[0m \u001b[0;34m\u001b[0m\u001b[0m\n\u001b[0;32m-> 1124\u001b[0;31m         formatted_exception = self.format_exception_as_a_whole(etype, evalue, etb, number_of_lines_of_context,\n\u001b[0m\u001b[1;32m   1125\u001b[0m                                                                tb_offset)\n\u001b[1;32m   1126\u001b[0m \u001b[0;34m\u001b[0m\u001b[0m\n",
      "\u001b[0;32m/rwthfs/rz/cluster/home/ab542498/python/base-3.9/lib/python3.9/site-packages/IPython/core/ultratb.py\u001b[0m in \u001b[0;36mformat_exception_as_a_whole\u001b[0;34m(self, etype, evalue, etb, number_of_lines_of_context, tb_offset)\u001b[0m\n\u001b[1;32m   1080\u001b[0m \u001b[0;34m\u001b[0m\u001b[0m\n\u001b[1;32m   1081\u001b[0m \u001b[0;34m\u001b[0m\u001b[0m\n\u001b[0;32m-> 1082\u001b[0;31m         \u001b[0mlast_unique\u001b[0m\u001b[0;34m,\u001b[0m \u001b[0mrecursion_repeat\u001b[0m \u001b[0;34m=\u001b[0m \u001b[0mfind_recursion\u001b[0m\u001b[0;34m(\u001b[0m\u001b[0morig_etype\u001b[0m\u001b[0;34m,\u001b[0m \u001b[0mevalue\u001b[0m\u001b[0;34m,\u001b[0m \u001b[0mrecords\u001b[0m\u001b[0;34m)\u001b[0m\u001b[0;34m\u001b[0m\u001b[0;34m\u001b[0m\u001b[0m\n\u001b[0m\u001b[1;32m   1083\u001b[0m \u001b[0;34m\u001b[0m\u001b[0m\n\u001b[1;32m   1084\u001b[0m         \u001b[0mframes\u001b[0m \u001b[0;34m=\u001b[0m \u001b[0mself\u001b[0m\u001b[0;34m.\u001b[0m\u001b[0mformat_records\u001b[0m\u001b[0;34m(\u001b[0m\u001b[0mrecords\u001b[0m\u001b[0;34m,\u001b[0m \u001b[0mlast_unique\u001b[0m\u001b[0;34m,\u001b[0m \u001b[0mrecursion_repeat\u001b[0m\u001b[0;34m)\u001b[0m\u001b[0;34m\u001b[0m\u001b[0;34m\u001b[0m\u001b[0m\n",
      "\u001b[0;32m/rwthfs/rz/cluster/home/ab542498/python/base-3.9/lib/python3.9/site-packages/IPython/core/ultratb.py\u001b[0m in \u001b[0;36mfind_recursion\u001b[0;34m(etype, value, records)\u001b[0m\n\u001b[1;32m    380\u001b[0m     \u001b[0;31m# first frame (from in to out) that looks different.\u001b[0m\u001b[0;34m\u001b[0m\u001b[0;34m\u001b[0m\u001b[0;34m\u001b[0m\u001b[0m\n\u001b[1;32m    381\u001b[0m     \u001b[0;32mif\u001b[0m \u001b[0;32mnot\u001b[0m \u001b[0mis_recursion_error\u001b[0m\u001b[0;34m(\u001b[0m\u001b[0metype\u001b[0m\u001b[0;34m,\u001b[0m \u001b[0mvalue\u001b[0m\u001b[0;34m,\u001b[0m \u001b[0mrecords\u001b[0m\u001b[0;34m)\u001b[0m\u001b[0;34m:\u001b[0m\u001b[0;34m\u001b[0m\u001b[0;34m\u001b[0m\u001b[0m\n\u001b[0;32m--> 382\u001b[0;31m         \u001b[0;32mreturn\u001b[0m \u001b[0mlen\u001b[0m\u001b[0;34m(\u001b[0m\u001b[0mrecords\u001b[0m\u001b[0;34m)\u001b[0m\u001b[0;34m,\u001b[0m \u001b[0;36m0\u001b[0m\u001b[0;34m\u001b[0m\u001b[0;34m\u001b[0m\u001b[0m\n\u001b[0m\u001b[1;32m    383\u001b[0m \u001b[0;34m\u001b[0m\u001b[0m\n\u001b[1;32m    384\u001b[0m     \u001b[0;31m# Select filename, lineno, func_name to track frames with\u001b[0m\u001b[0;34m\u001b[0m\u001b[0;34m\u001b[0m\u001b[0;34m\u001b[0m\u001b[0m\n",
      "\u001b[0;31mTypeError\u001b[0m: object of type 'NoneType' has no len()"
     ]
    }
   ],
   "source": [
    "%%px\n",
    "gb = GBStructure('lammps', 'LSF_supercell_md3.lmp', pair_style='buck/coul/long 12', kspace_style='pppm 1.0e-4')\n",
    "gb.pylmp.thermo(5)\n",
    "gb.minimise()"
   ]
  }
 ],
 "metadata": {
  "kernelspec": {
   "display_name": "Python 3 (ipykernel)",
   "language": "python",
   "name": "python3"
  },
  "language_info": {
   "codemirror_mode": {
    "name": "ipython",
    "version": 3
   },
   "file_extension": ".py",
   "mimetype": "text/x-python",
   "name": "python",
   "nbconvert_exporter": "python",
   "pygments_lexer": "ipython3",
   "version": "3.9.6"
  }
 },
 "nbformat": 4,
 "nbformat_minor": 5
}
